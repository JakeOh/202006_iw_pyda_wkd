{
  "nbformat": 4,
  "nbformat_minor": 0,
  "metadata": {
    "colab": {
      "name": "py02_data_type.ipynb",
      "provenance": [],
      "collapsed_sections": [],
      "authorship_tag": "ABX9TyNahWE5UEnUwsOmBLQxUGJI",
      "include_colab_link": true
    },
    "kernelspec": {
      "name": "python3",
      "display_name": "Python 3"
    }
  },
  "cells": [
    {
      "cell_type": "markdown",
      "metadata": {
        "id": "view-in-github",
        "colab_type": "text"
      },
      "source": [
        "<a href=\"https://colab.research.google.com/github/JakeOh/202006_iw_pyda_wkd/blob/master/py02_data_type.ipynb\" target=\"_parent\"><img src=\"https://colab.research.google.com/assets/colab-badge.svg\" alt=\"Open In Colab\"/></a>"
      ]
    },
    {
      "cell_type": "code",
      "metadata": {
        "id": "gZCYpWR7swN-",
        "colab_type": "code",
        "colab": {
          "base_uri": "https://localhost:8080/",
          "height": 86
        },
        "outputId": "23f435f2-fd34-4e21-93d0-288d65204f2c"
      },
      "source": [
        "# Python의 주요 자료(데이터) 타입:\n",
        "# 숫자(int, float), 문자열(str), 논리(bool)\n",
        "# type(값/변수): 자료 타입을 알려줌.\n",
        "print(type(123))  # int: 정수(integer)\n",
        "print(type(1.234))  # float: 실수(floating point number)\n",
        "print(type('Python'))  # str: 문자열(string)\n",
        "\n",
        "result = 10 > 0\n",
        "print(type(result))  # bool: 논리형(boolean)"
      ],
      "execution_count": 4,
      "outputs": [
        {
          "output_type": "stream",
          "text": [
            "<class 'int'>\n",
            "<class 'float'>\n",
            "<class 'str'>\n",
            "<class 'bool'>\n"
          ],
          "name": "stdout"
        }
      ]
    },
    {
      "cell_type": "code",
      "metadata": {
        "id": "d-dbdqcLuxuS",
        "colab_type": "code",
        "colab": {
          "base_uri": "https://localhost:8080/",
          "height": 86
        },
        "outputId": "64650a62-0aeb-4f98-d6a4-0e1e68f53db3"
      },
      "source": [
        "# 여러개의 자료(데이터)들을 하나의 변수에 저장하기 위해서 만들어진 타입\n",
        "# list, tuple, dictionary, set 타입\n",
        "\n",
        "# list(리스트): 여러개의 값들을 하나의 변수 이름으로 저장하기 위한 타입\n",
        "# 리스트 저장하고 있는 원소(값)를 찾을 수 있는 인덱스(일련 번호)를 가지고 있음.\n",
        "# 리스트의 인덱스는 0부터 시작.\n",
        "# 리스트의 원소는 인덱스 연산자 []를 사용해서 값을 읽거나 변경할 수 있음.\n",
        "\n",
        "numbers = [1, 2, 3, 4, 5]  # []는 리스트를 만드는 기능.\n",
        "print(numbers)\n",
        "print(numbers[0])  # []는 인덱스 연산자 - 리스트의 원소를 찾음.\n",
        "numbers[0] = 100  # 숫자 100을 리스트 numbers의 0번째 위치에 저장.\n",
        "print(numbers)\n",
        "\n",
        "# len(리스트 이름): 리스트의 길이(원소의 개수)를 알려줌.\n",
        "print('length:', len(numbers))"
      ],
      "execution_count": 8,
      "outputs": [
        {
          "output_type": "stream",
          "text": [
            "[1, 2, 3, 4, 5]\n",
            "1\n",
            "[100, 2, 3, 4, 5]\n",
            "length: 5\n"
          ],
          "name": "stdout"
        }
      ]
    },
    {
      "cell_type": "code",
      "metadata": {
        "id": "CCbhmlY1E-0c",
        "colab_type": "code",
        "colab": {
          "base_uri": "https://localhost:8080/",
          "height": 34
        },
        "outputId": "72b4d8b8-0d51-4608-c2b3-69bfbffbe612"
      },
      "source": [
        "# 리스트의 부분 집합 - slicing\n",
        "# list_name[start:end]: start <= index < end 범위의 원소를 선택.\n",
        "evens = [2, 4, 6, 8, 10, 12]\n",
        "print(evens[2:5])"
      ],
      "execution_count": 10,
      "outputs": [
        {
          "output_type": "stream",
          "text": [
            "[6, 8, 10]\n"
          ],
          "name": "stdout"
        }
      ]
    },
    {
      "cell_type": "code",
      "metadata": {
        "id": "CMLdzK14HHjl",
        "colab_type": "code",
        "colab": {
          "base_uri": "https://localhost:8080/",
          "height": 103
        },
        "outputId": "397a129f-9fe8-44db-9d6d-a9529150c2a3"
      },
      "source": [
        "# [start:end]에서 start를 생략하면, start의 기본값은 0.\n",
        "# [start:end]에서 end를 생략하면, end의 기본값은 리스트의 길이.\n",
        "# 즉, end를 생략하면 리스트의 마지막 원소까지 선택.\n",
        "print(evens[0:3])  # 0 <= index < 3\n",
        "print(evens[:3])\n",
        "print(evens[3:6])\n",
        "print(evens[3:])\n",
        "print(evens[:])  # 인덱스 0번 원소부터 마지막 원소까지 모두 선택"
      ],
      "execution_count": 15,
      "outputs": [
        {
          "output_type": "stream",
          "text": [
            "[2, 4, 6]\n",
            "[2, 4, 6]\n",
            "[8, 10, 12]\n",
            "[8, 10, 12]\n",
            "[2, 4, 6, 8, 10, 12]\n"
          ],
          "name": "stdout"
        }
      ]
    },
    {
      "cell_type": "code",
      "metadata": {
        "id": "RaiduQTYJEg8",
        "colab_type": "code",
        "colab": {
          "base_uri": "https://localhost:8080/",
          "height": 51
        },
        "outputId": "6119d42c-9c2b-4d4f-dc83-b148c966505f"
      },
      "source": [
        "# 음수 인덱스\n",
        "print(evens[-4:-2])  # 많이 사용하지 않는 코드\n",
        "print(evens[-2:])  # 리스트에서 끝에서 2개의 원소를 선택"
      ],
      "execution_count": 17,
      "outputs": [
        {
          "output_type": "stream",
          "text": [
            "[6, 8]\n",
            "[10, 12]\n"
          ],
          "name": "stdout"
        }
      ]
    },
    {
      "cell_type": "code",
      "metadata": {
        "id": "T5lDNDNFKikc",
        "colab_type": "code",
        "colab": {
          "base_uri": "https://localhost:8080/",
          "height": 69
        },
        "outputId": "23f322fe-067a-4467-cb8a-0bc4fe8f71b6"
      },
      "source": [
        "odds = [1, 3, 5, 7, 9]\n",
        "print(odds)\n",
        "\n",
        "# odds 리스트에 원소를 뒤쪽에 추가: append\n",
        "odds.append(11)\n",
        "print(odds)\n",
        "\n",
        "odds.append([13, 15, 17])\n",
        "print(odds)  # [13, 15, 17] 리스트 자체가 마지막 원소로 추가됨!"
      ],
      "execution_count": 20,
      "outputs": [
        {
          "output_type": "stream",
          "text": [
            "[1, 3, 5, 7, 9]\n",
            "[1, 3, 5, 7, 9, 11]\n",
            "[1, 3, 5, 7, 9, 11, [13, 15, 17]]\n"
          ],
          "name": "stdout"
        }
      ]
    },
    {
      "cell_type": "code",
      "metadata": {
        "id": "MwFp08O7OWBP",
        "colab_type": "code",
        "colab": {
          "base_uri": "https://localhost:8080/",
          "height": 34
        },
        "outputId": "44f20c70-a089-474b-8655-6d32981aa3a6"
      },
      "source": [
        "# list1.extend(list2): list2의 원소들을 하나씩 list1에 추가\n",
        "numbers = [1, 2, 3]\n",
        "numbers.extend([4, 5, 6])\n",
        "print(numbers)"
      ],
      "execution_count": 21,
      "outputs": [
        {
          "output_type": "stream",
          "text": [
            "[1, 2, 3, 4, 5, 6]\n"
          ],
          "name": "stdout"
        }
      ]
    },
    {
      "cell_type": "code",
      "metadata": {
        "id": "b1r8_Qh-PZ2j",
        "colab_type": "code",
        "colab": {
          "base_uri": "https://localhost:8080/",
          "height": 34
        },
        "outputId": "65111acb-a79b-43f8-c312-95df897f9836"
      },
      "source": [
        "# list.remove(value): 리스트에서 처음 등장하는 값 value를 삭제\n",
        "numbers = [1, 2, 3, 1, 2, 3]\n",
        "numbers.remove(2)\n",
        "print(numbers)"
      ],
      "execution_count": 22,
      "outputs": [
        {
          "output_type": "stream",
          "text": [
            "[1, 3, 1, 2, 3]\n"
          ],
          "name": "stdout"
        }
      ]
    },
    {
      "cell_type": "code",
      "metadata": {
        "id": "roJkCknBQR6j",
        "colab_type": "code",
        "colab": {
          "base_uri": "https://localhost:8080/",
          "height": 103
        },
        "outputId": "85634b93-853d-4d36-e77a-7b82f4be0b8e"
      },
      "source": [
        "# tuple(튜플): 변경할 수 없는 리스트\n",
        "numbers = (1, 2, 3, 4, 5)\n",
        "print(type(numbers))  # tuple\n",
        "print(numbers)\n",
        "print(numbers[0])  # 튜플은 리스트와 마찬가지로 인덱스를 사용함.\n",
        "print(numbers[:3])  # 튜플 원소들 중에서 앞에서 3개 선택.\n",
        "print(numbers[-3:])  # 튜플 원소들 중에서 뒤에서 3개 선택.\n",
        "# numbers[0] = 100  # tuple은 원소를 변경할 수 없기 때문에 에러 발생."
      ],
      "execution_count": 33,
      "outputs": [
        {
          "output_type": "stream",
          "text": [
            "<class 'tuple'>\n",
            "(1, 2, 3, 4, 5)\n",
            "1\n",
            "(1, 2, 3)\n",
            "(3, 4, 5)\n"
          ],
          "name": "stdout"
        }
      ]
    },
    {
      "cell_type": "code",
      "metadata": {
        "id": "oySJ9uX0TD29",
        "colab_type": "code",
        "colab": {
          "base_uri": "https://localhost:8080/",
          "height": 103
        },
        "outputId": "44739a33-a9d3-48d9-a339-7a93856f2ec2"
      },
      "source": [
        "array_2d = [[1, 2, 3],\n",
        "            [4, 5, 6, 7],\n",
        "            [8, 9]]\n",
        "print(array_2d)\n",
        "print('array_2d length:', len(array_2d))\n",
        "# array_2d는 리스트 3개를 원소로 갖는 리스트\n",
        "\n",
        "print(array_2d[0])\n",
        "print(array_2d[0][0])\n",
        "print(array_2d[1][2])"
      ],
      "execution_count": 42,
      "outputs": [
        {
          "output_type": "stream",
          "text": [
            "[[1, 2, 3], [4, 5, 6, 7], [8, 9]]\n",
            "array_2d length: 3\n",
            "[1, 2, 3]\n",
            "1\n",
            "6\n"
          ],
          "name": "stdout"
        }
      ]
    },
    {
      "cell_type": "code",
      "metadata": {
        "id": "bGFvkRuCWCdl",
        "colab_type": "code",
        "colab": {
          "base_uri": "https://localhost:8080/",
          "height": 34
        },
        "outputId": "9aed19d0-a571-4b91-da39-23db58baf629"
      },
      "source": [
        "names = ['Python', 'Java', 'C/C++']\n",
        "print(names)\n",
        "# 리스트: 다양한 자료 타입의 원소들을 여러개 저장하기 위해 사용."
      ],
      "execution_count": 43,
      "outputs": [
        {
          "output_type": "stream",
          "text": [
            "['Python', 'Java', 'C/C++']\n"
          ],
          "name": "stdout"
        }
      ]
    },
    {
      "cell_type": "code",
      "metadata": {
        "id": "mk5ALh7QWiRU",
        "colab_type": "code",
        "colab": {
          "base_uri": "https://localhost:8080/",
          "height": 103
        },
        "outputId": "7b0bb4a9-ca51-45ff-97c6-8a8c5d2dcfaa"
      },
      "source": [
        "# set(집합): 저장되는 순서가 중요하지 않고, 중복된 값을 허용하지 않는 타입.\n",
        "# {1, 2, 3} == {3, 1, 2}: 저장되는 순서가 중요하지 않음. 인덱스 없음.\n",
        "# {1, 2, 2, 3, 3, 3} == {1, 2, 3}: 중복 허용하지 않음.\n",
        "\n",
        "set1 = {1, 2, 3}\n",
        "print(set1)\n",
        "set2 = {3, 1, 2}\n",
        "print(set2)\n",
        "print(set1 == set2)\n",
        "# print(set1[0])  # 집합은 인덱싱을 할 수 없음!\n",
        "set3 = {1, 2, 2, 3, 3, 3}\n",
        "print(set1 == set3)  # 중복된 값들은 하나로 취급!\n",
        "print('set3 length:', len(set3))"
      ],
      "execution_count": 51,
      "outputs": [
        {
          "output_type": "stream",
          "text": [
            "{1, 2, 3}\n",
            "{1, 2, 3}\n",
            "True\n",
            "True\n",
            "set3 length: 3\n"
          ],
          "name": "stdout"
        }
      ]
    },
    {
      "cell_type": "code",
      "metadata": {
        "id": "DDXzOBlGb9xF",
        "colab_type": "code",
        "colab": {
          "base_uri": "https://localhost:8080/",
          "height": 69
        },
        "outputId": "c66d7daf-836e-4c07-9f6a-dac99710f928"
      },
      "source": [
        "# dict(사전, dictionary): key-value 쌍으로 저장하는 데이터 타입\n",
        "students = {1: '홍길동',\n",
        "            2: '철수',\n",
        "            10: 'Smith'}\n",
        "print(students)\n",
        "print('length students:', len(students))\n",
        "\n",
        "# dict의 원소의 값을 읽거나 변경할 때는 key를 사용\n",
        "print(students[10])"
      ],
      "execution_count": 56,
      "outputs": [
        {
          "output_type": "stream",
          "text": [
            "{1: '홍길동', 2: '철수', 10: 'Smith'}\n",
            "length students: 3\n",
            "Smith\n"
          ],
          "name": "stdout"
        }
      ]
    },
    {
      "cell_type": "code",
      "metadata": {
        "id": "Zor6VM8Idq2t",
        "colab_type": "code",
        "colab": {
          "base_uri": "https://localhost:8080/",
          "height": 34
        },
        "outputId": "2f9c82c3-2c6c-4152-d6cd-2fe1f227a0b7"
      },
      "source": [
        "menu = {'짜장면': 5000,\n",
        "        '짬뽕': 6000,\n",
        "        '볶음밥': 7000}\n",
        "print(menu['볶음밥'])\n",
        "# dict에서 key는 중복된 값을 허용하지 않음. \n",
        "# value는 중복되는 값이 있을 수 있음."
      ],
      "execution_count": 57,
      "outputs": [
        {
          "output_type": "stream",
          "text": [
            "7000\n"
          ],
          "name": "stdout"
        }
      ]
    },
    {
      "cell_type": "code",
      "metadata": {
        "id": "VG1J-lZye8F9",
        "colab_type": "code",
        "colab": {
          "base_uri": "https://localhost:8080/",
          "height": 69
        },
        "outputId": "dd51db82-b377-445f-f414-bed0d80f1c9c"
      },
      "source": [
        "print(menu)\n",
        "print(menu.keys())  # dict의 키들만 선택\n",
        "print(menu.values())  # dict의 값(value)들만 선택"
      ],
      "execution_count": 60,
      "outputs": [
        {
          "output_type": "stream",
          "text": [
            "{'짜장면': 5000, '짬뽕': 6000, '볶음밥': 7000}\n",
            "dict_keys(['짜장면', '짬뽕', '볶음밥'])\n",
            "dict_values([5000, 6000, 7000])\n"
          ],
          "name": "stdout"
        }
      ]
    },
    {
      "cell_type": "code",
      "metadata": {
        "id": "POejJdh4f0IE",
        "colab_type": "code",
        "colab": {
          "base_uri": "https://localhost:8080/",
          "height": 123
        },
        "outputId": "6109f75f-03c3-4df3-fa51-26b8e96c40e8"
      },
      "source": [
        "person = {'name': '오쌤',\n",
        "          'phone': ['010-1111-1111', '02-1234-5678'],\n",
        "          'email': {'personal': 'jake@gmail.com', \n",
        "                    'office': 'jake@itwill.co.kr'}\n",
        "          }\n",
        "print(person)\n",
        "print(person['name'])\n",
        "print(person['phone'])\n",
        "print(person['phone'][1])\n",
        "print(person['email']['personal']) # personal email만 선택"
      ],
      "execution_count": 66,
      "outputs": [
        {
          "output_type": "stream",
          "text": [
            "{'name': '오쌤', 'phone': ['010-1111-1111', '02-1234-5678'], 'email': {'personal': 'jake@gmail.com', 'office': 'jake@itwill.co.kr'}}\n",
            "오쌤\n",
            "['010-1111-1111', '02-1234-5678']\n",
            "02-1234-5678\n",
            "jake@gmail.com\n"
          ],
          "name": "stdout"
        }
      ]
    }
  ]
}