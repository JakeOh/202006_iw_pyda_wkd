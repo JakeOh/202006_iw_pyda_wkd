{
  "nbformat": 4,
  "nbformat_minor": 0,
  "metadata": {
    "colab": {
      "name": "py05_while.ipynb",
      "provenance": [],
      "collapsed_sections": [],
      "authorship_tag": "ABX9TyPoQZZax8eFdggiqSyIc7FF",
      "include_colab_link": true
    },
    "kernelspec": {
      "name": "python3",
      "display_name": "Python 3"
    }
  },
  "cells": [
    {
      "cell_type": "markdown",
      "metadata": {
        "id": "view-in-github",
        "colab_type": "text"
      },
      "source": [
        "<a href=\"https://colab.research.google.com/github/JakeOh/202006_iw_pyda_wkd/blob/master/py05_while.ipynb\" target=\"_parent\"><img src=\"https://colab.research.google.com/assets/colab-badge.svg\" alt=\"Open In Colab\"/></a>"
      ]
    },
    {
      "cell_type": "code",
      "metadata": {
        "id": "XgeUHQFSI8uT",
        "colab_type": "code",
        "colab": {
          "base_uri": "https://localhost:8080/",
          "height": 103
        },
        "outputId": "de9e666c-1aaf-4d59-f157-e61fd6e66aca"
      },
      "source": [
        "\"\"\"\n",
        "while 조건식:\n",
        "    조건식이 True일 때 실행할 문장들\n",
        "    [조건식의 내용을 변경할 수 있는 코드]\n",
        "\"\"\"\n",
        "\n",
        "n = 1  # 초깃값\n",
        "while n <= 5:  # n이 5 이하인 동안에\n",
        "    print(n)\n",
        "    n += 1"
      ],
      "execution_count": 1,
      "outputs": [
        {
          "output_type": "stream",
          "text": [
            "1\n",
            "2\n",
            "3\n",
            "4\n",
            "5\n"
          ],
          "name": "stdout"
        }
      ]
    },
    {
      "cell_type": "code",
      "metadata": {
        "id": "zBFqNXloK5ed",
        "colab_type": "code",
        "colab": {
          "base_uri": "https://localhost:8080/",
          "height": 34
        },
        "outputId": "e7a3bd68-d9b9-438b-ceb7-10338ff93f11"
      },
      "source": [
        "# 1 + 2 + 3 + ...  + 99 + 100 = 5050\n",
        "sum_ = 0  # 1부터 100까지 숫자들을 저장할 변수\n",
        "for n in range(1, 101):  # 1 <= n < 101인 정수들 중에서\n",
        "    sum_ += n\n",
        "print(sum_)"
      ],
      "execution_count": 2,
      "outputs": [
        {
          "output_type": "stream",
          "text": [
            "5050\n"
          ],
          "name": "stdout"
        }
      ]
    },
    {
      "cell_type": "code",
      "metadata": {
        "id": "faPwiPQXL-UP",
        "colab_type": "code",
        "colab": {
          "base_uri": "https://localhost:8080/",
          "height": 34
        },
        "outputId": "73403abd-e233-4b65-cef6-596e25aef0dd"
      },
      "source": [
        "sum_ = 0  # 초깃값\n",
        "n = 1  # 1부터 100까지 sum_에 계속 더해나갈 값\n",
        "while n <= 100:  # n <= 100인 동안에\n",
        "    sum_ += n\n",
        "    n += 1\n",
        "print(sum_)"
      ],
      "execution_count": 3,
      "outputs": [
        {
          "output_type": "stream",
          "text": [
            "5050\n"
          ],
          "name": "stdout"
        }
      ]
    },
    {
      "cell_type": "code",
      "metadata": {
        "id": "bw2V97uqNuVN",
        "colab_type": "code",
        "colab": {
          "base_uri": "https://localhost:8080/",
          "height": 34
        },
        "outputId": "650bcaf0-35f2-4598-bd6d-e101397e639e"
      },
      "source": [
        "# 1 + 2 + 3 + ... + x >= 50\n",
        "sum_ = 0\n",
        "n = 1\n",
        "while True:  # 항상 실행\n",
        "    sum_ += n\n",
        "    if sum_ >= 50:  # 더해나가는 값이 50 이상이 되면\n",
        "        break  # 무한 루프(loop)를 멈춤.\n",
        "    n += 1\n",
        "print(f'n = {n}, sum = {sum_}')"
      ],
      "execution_count": 4,
      "outputs": [
        {
          "output_type": "stream",
          "text": [
            "n = 10, sum = 55\n"
          ],
          "name": "stdout"
        }
      ]
    }
  ]
}