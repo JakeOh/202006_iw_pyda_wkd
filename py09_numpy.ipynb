{
  "nbformat": 4,
  "nbformat_minor": 0,
  "metadata": {
    "colab": {
      "name": "py09_numpy.ipynb",
      "provenance": [],
      "collapsed_sections": [],
      "authorship_tag": "ABX9TyM8u9OiLvqO+uiyPAB5Mk1f",
      "include_colab_link": true
    },
    "kernelspec": {
      "name": "python3",
      "display_name": "Python 3"
    }
  },
  "cells": [
    {
      "cell_type": "markdown",
      "metadata": {
        "id": "view-in-github",
        "colab_type": "text"
      },
      "source": [
        "<a href=\"https://colab.research.google.com/github/JakeOh/202006_iw_pyda_wkd/blob/master/py09_numpy.ipynb\" target=\"_parent\"><img src=\"https://colab.research.google.com/assets/colab-badge.svg\" alt=\"Open In Colab\"/></a>"
      ]
    },
    {
      "cell_type": "code",
      "metadata": {
        "id": "fW6vd5q2OkNr",
        "colab_type": "code",
        "colab": {}
      },
      "source": [
        "import numpy as np"
      ],
      "execution_count": 4,
      "outputs": []
    },
    {
      "cell_type": "code",
      "metadata": {
        "id": "xJDBbbanOOI1",
        "colab_type": "code",
        "colab": {
          "base_uri": "https://localhost:8080/",
          "height": 120
        },
        "outputId": "820e8716-8e25-48de-baac-4b55ebd45bce"
      },
      "source": [
        "# NumPy array는 같은 위치에 있는 원소들끼리 연산을 수행.\n",
        "A = np.arange(9).reshape((3, 3))\n",
        "print(A)\n",
        "B = np.ones((3, 3), dtype=np.int)\n",
        "print(B)"
      ],
      "execution_count": 7,
      "outputs": [
        {
          "output_type": "stream",
          "text": [
            "[[0 1 2]\n",
            " [3 4 5]\n",
            " [6 7 8]]\n",
            "[[1 1 1]\n",
            " [1 1 1]\n",
            " [1 1 1]]\n"
          ],
          "name": "stdout"
        }
      ]
    },
    {
      "cell_type": "code",
      "metadata": {
        "id": "c8GJ7T4fPH5J",
        "colab_type": "code",
        "colab": {
          "base_uri": "https://localhost:8080/",
          "height": 69
        },
        "outputId": "1f875dac-faf1-4d67-ce78-3097d7e7d15b"
      },
      "source": [
        "A + B"
      ],
      "execution_count": 8,
      "outputs": [
        {
          "output_type": "execute_result",
          "data": {
            "text/plain": [
              "array([[1, 2, 3],\n",
              "       [4, 5, 6],\n",
              "       [7, 8, 9]])"
            ]
          },
          "metadata": {
            "tags": []
          },
          "execution_count": 8
        }
      ]
    },
    {
      "cell_type": "code",
      "metadata": {
        "id": "PFvMvRY-Npuy",
        "colab_type": "code",
        "colab": {
          "base_uri": "https://localhost:8080/",
          "height": 86
        },
        "outputId": "9556ea56-0e1d-4f09-8291-715cd7acd111"
      },
      "source": [
        "# Broadcasting(브로드캐스트):\n",
        "# 서로 차원이 다른 배열들끼리 연산(+, -, *, /, ...)을 수행하는 방법.\n",
        "A = np.arange(9).reshape((3, 3))\n",
        "print(A)\n",
        "B = np.array([1, 2, 3])\n",
        "print(B)"
      ],
      "execution_count": 10,
      "outputs": [
        {
          "output_type": "stream",
          "text": [
            "[[0 1 2]\n",
            " [3 4 5]\n",
            " [6 7 8]]\n",
            "[1 2 3]\n"
          ],
          "name": "stdout"
        }
      ]
    },
    {
      "cell_type": "code",
      "metadata": {
        "id": "_NleQvzuPxPj",
        "colab_type": "code",
        "colab": {
          "base_uri": "https://localhost:8080/",
          "height": 69
        },
        "outputId": "52a09f3f-13bc-4fad-e24b-92d2880c982a"
      },
      "source": [
        "print(A * B)"
      ],
      "execution_count": 13,
      "outputs": [
        {
          "output_type": "stream",
          "text": [
            "[[ 0  2  6]\n",
            " [ 3  8 15]\n",
            " [ 6 14 24]]\n"
          ],
          "name": "stdout"
        }
      ]
    },
    {
      "cell_type": "code",
      "metadata": {
        "id": "UyRarE5_Ql6q",
        "colab_type": "code",
        "colab": {
          "base_uri": "https://localhost:8080/",
          "height": 69
        },
        "outputId": "8da4bf34-2ab3-414c-9ebf-dfaf8fe4c80a"
      },
      "source": [
        "C = np.array([[1], [2], [3]])\n",
        "print(C)"
      ],
      "execution_count": 14,
      "outputs": [
        {
          "output_type": "stream",
          "text": [
            "[[1]\n",
            " [2]\n",
            " [3]]\n"
          ],
          "name": "stdout"
        }
      ]
    },
    {
      "cell_type": "code",
      "metadata": {
        "id": "BhvA1WjcQz1L",
        "colab_type": "code",
        "colab": {
          "base_uri": "https://localhost:8080/",
          "height": 69
        },
        "outputId": "7d635f79-ba96-4be6-e43b-b29bdc5981fc"
      },
      "source": [
        "print(A + C)"
      ],
      "execution_count": 16,
      "outputs": [
        {
          "output_type": "stream",
          "text": [
            "[[ 1  2  3]\n",
            " [ 5  6  7]\n",
            " [ 9 10 11]]\n"
          ],
          "name": "stdout"
        }
      ]
    },
    {
      "cell_type": "code",
      "metadata": {
        "id": "i3DfVZebUoNK",
        "colab_type": "code",
        "colab": {
          "base_uri": "https://localhost:8080/",
          "height": 103
        },
        "outputId": "f26e06f6-c236-4da5-8241-9df94dbcbd60"
      },
      "source": [
        "# 행렬의 내적(inner product, dot product)\n",
        "# (n, m) @ (m, k) = (n, k)\n",
        "A = np.arange(6).reshape((3, 2))\n",
        "print(A)  # (3, 2) shape\n",
        "B = np.arange(6).reshape((2, 3))\n",
        "print(B)  # (2, 3) shape"
      ],
      "execution_count": 18,
      "outputs": [
        {
          "output_type": "stream",
          "text": [
            "[[0 1]\n",
            " [2 3]\n",
            " [4 5]]\n",
            "[[0 1 2]\n",
            " [3 4 5]]\n"
          ],
          "name": "stdout"
        }
      ]
    },
    {
      "cell_type": "code",
      "metadata": {
        "id": "XudXkMaHV2NB",
        "colab_type": "code",
        "colab": {
          "base_uri": "https://localhost:8080/",
          "height": 172
        },
        "outputId": "8b1208ac-1841-4847-d6c9-62d4558f845f"
      },
      "source": [
        "print(A @ B)\n",
        "print(A.dot(B))  # numpy.ndarray.dot() 메서드\n",
        "print(np.dot(A, B))  # numpy.dot() 함수"
      ],
      "execution_count": 22,
      "outputs": [
        {
          "output_type": "stream",
          "text": [
            "[[ 3  4  5]\n",
            " [ 9 14 19]\n",
            " [15 24 33]]\n",
            "[[ 3  4  5]\n",
            " [ 9 14 19]\n",
            " [15 24 33]]\n",
            "[[ 3  4  5]\n",
            " [ 9 14 19]\n",
            " [15 24 33]]\n"
          ],
          "name": "stdout"
        }
      ]
    },
    {
      "cell_type": "code",
      "metadata": {
        "id": "4mZGEzocWuj6",
        "colab_type": "code",
        "colab": {
          "base_uri": "https://localhost:8080/",
          "height": 51
        },
        "outputId": "d0961b72-d400-4152-a24f-e61597f1c5db"
      },
      "source": [
        "print(B @ A)  # B.dot(A), np.dot(B, A)"
      ],
      "execution_count": 20,
      "outputs": [
        {
          "output_type": "stream",
          "text": [
            "[[10 13]\n",
            " [28 40]]\n"
          ],
          "name": "stdout"
        }
      ]
    },
    {
      "cell_type": "code",
      "metadata": {
        "id": "oqy3Dg-YX6FL",
        "colab_type": "code",
        "colab": {
          "base_uri": "https://localhost:8080/",
          "height": 51
        },
        "outputId": "d45f6f87-69d6-4fdb-c570-84cfcdd9cc2c"
      },
      "source": [
        "# NumPy 수학 함수 - ndarray의 각각의 원소에 함수가 적용. \n",
        "x = np.array([1, 2, 3, 4, 5])\n",
        "print(x)\n",
        "y = x**2\n",
        "print(y)"
      ],
      "execution_count": 24,
      "outputs": [
        {
          "output_type": "stream",
          "text": [
            "[1 2 3 4 5]\n",
            "[ 1  4  9 16 25]\n"
          ],
          "name": "stdout"
        }
      ]
    },
    {
      "cell_type": "code",
      "metadata": {
        "id": "lgWupnasYj8T",
        "colab_type": "code",
        "colab": {
          "base_uri": "https://localhost:8080/",
          "height": 34
        },
        "outputId": "071be7c1-50d0-4124-e8ef-a8c9efbf1f34"
      },
      "source": [
        "y = np.power(x, 3)\n",
        "print(y)"
      ],
      "execution_count": 25,
      "outputs": [
        {
          "output_type": "stream",
          "text": [
            "[  1   8  27  64 125]\n"
          ],
          "name": "stdout"
        }
      ]
    },
    {
      "cell_type": "code",
      "metadata": {
        "id": "kXARmdMkZGKb",
        "colab_type": "code",
        "colab": {
          "base_uri": "https://localhost:8080/",
          "height": 34
        },
        "outputId": "cdd29f01-ba71-4561-df9e-e6eac9157741"
      },
      "source": [
        "y = np.exp(x)\n",
        "print(y)"
      ],
      "execution_count": 26,
      "outputs": [
        {
          "output_type": "stream",
          "text": [
            "[  2.71828183   7.3890561   20.08553692  54.59815003 148.4131591 ]\n"
          ],
          "name": "stdout"
        }
      ]
    },
    {
      "cell_type": "code",
      "metadata": {
        "id": "Dd5ALSBfZ0Bp",
        "colab_type": "code",
        "colab": {
          "base_uri": "https://localhost:8080/",
          "height": 299
        },
        "outputId": "e8aa4512-1af0-4bcb-e849-024f3bb800ec"
      },
      "source": [
        "import matplotlib.pyplot as plt\n",
        "\n",
        "x = np.arange(-2, 2, 0.5)\n",
        "y = x ** 2\n",
        "print(x)\n",
        "print(y)\n",
        "\n",
        "plt.plot(x, y, marker='o')\n",
        "plt.show()"
      ],
      "execution_count": 31,
      "outputs": [
        {
          "output_type": "stream",
          "text": [
            "[-2.  -1.5 -1.  -0.5  0.   0.5  1.   1.5]\n",
            "[4.   2.25 1.   0.25 0.   0.25 1.   2.25]\n"
          ],
          "name": "stdout"
        },
        {
          "output_type": "display_data",
          "data": {
            "image/png": "[encoded data removed]",
            "text/plain": [
              "<Figure size 432x288 with 1 Axes>"
            ]
          },
          "metadata": {
            "tags": [],
            "needs_background": "light"
          }
        }
      ]
    },
    {
      "cell_type": "code",
      "metadata": {
        "id": "RSlE0zbmbMZT",
        "colab_type": "code",
        "colab": {
          "base_uri": "https://localhost:8080/",
          "height": 265
        },
        "outputId": "1953d830-1fa7-4786-cba8-2009fe9698b8"
      },
      "source": [
        "x = np.arange(-5, 5, 0.01)\n",
        "y = np.exp(x)\n",
        "plt.plot(x, y)\n",
        "plt.show()"
      ],
      "execution_count": 32,
      "outputs": [
        {
          "output_type": "display_data",
          "data": {
            "image/png": "[encoded data removed]",
            "text/plain": [
              "<Figure size 432x288 with 1 Axes>"
            ]
          },
          "metadata": {
            "tags": [],
            "needs_background": "light"
          }
        }
      ]
    },
    {
      "cell_type": "code",
      "metadata": {
        "id": "uDE7cGhObgfK",
        "colab_type": "code",
        "colab": {
          "base_uri": "https://localhost:8080/",
          "height": 265
        },
        "outputId": "ad7f1726-52c8-46a7-f393-848c6944ef6f"
      },
      "source": [
        "x = np.arange(-10, 10, 0.01)\n",
        "y = 1 / (1 + np.exp(-x))\n",
        "\n",
        "plt.plot(x, y)\n",
        "plt.show()"
      ],
      "execution_count": 35,
      "outputs": [
        {
          "output_type": "display_data",
          "data": {
            "image/png": "[encoded data removed]",
            "text/plain": [
              "<Figure size 432x288 with 1 Axes>"
            ]
          },
          "metadata": {
            "tags": [],
            "needs_background": "light"
          }
        }
      ]
    },
    {
      "cell_type": "code",
      "metadata": {
        "id": "q5o88iO3dBej",
        "colab_type": "code",
        "colab": {
          "base_uri": "https://localhost:8080/",
          "height": 103
        },
        "outputId": "ecdc1ad2-e8df-488e-e194-3df0f926e5fa"
      },
      "source": [
        "# NumPy 통계 관련 함수\n",
        "# 평균, 분산, 표준편차, 최댓값, 최솟값, 중앙값, 백분위값, ...\n",
        "data = np.array([1, 2, 3, 4, 5])  # (5,) shape 1-D array\n",
        "print(data)\n",
        "s = np.sum(data)  # 원소들의 합\n",
        "print(s)\n",
        "mu = np.mean(data)  # 원소들의 평균\n",
        "print(mu)\n",
        "variance = np.var(data)\n",
        "print('분산:', variance)\n",
        "standard_deviation = np.std(data)\n",
        "print('표준편차:', standard_deviation)"
      ],
      "execution_count": 40,
      "outputs": [
        {
          "output_type": "stream",
          "text": [
            "[1 2 3 4 5]\n",
            "15\n",
            "3.0\n",
            "분산: 2.0\n",
            "표준편차: 1.4142135623730951\n"
          ],
          "name": "stdout"
        }
      ]
    },
    {
      "cell_type": "code",
      "metadata": {
        "id": "clOUSzoAi3v6",
        "colab_type": "code",
        "colab": {
          "base_uri": "https://localhost:8080/",
          "height": 120
        },
        "outputId": "1b09c2f2-f3c0-415e-a0a5-a04b67cb99b9"
      },
      "source": [
        "# 2-D array에서의 통계 함수\n",
        "data = np.arange(12).reshape((3, 4))\n",
        "print(data)\n",
        "print(np.sum(data))  # 모든 원소들의 합\n",
        "print(np.sum(data, axis=0))\n",
        "print(np.sum(data, axis=1))\n",
        "# axis 파라미터: 연산을 수행하는 축 방향\n",
        "# axis=0: row(행) 번호가 증가하는 방향\n",
        "# axis=1: column(열) 번호가 증가하는 방향"
      ],
      "execution_count": 43,
      "outputs": [
        {
          "output_type": "stream",
          "text": [
            "[[ 0  1  2  3]\n",
            " [ 4  5  6  7]\n",
            " [ 8  9 10 11]]\n",
            "66\n",
            "[12 15 18 21]\n",
            "[ 6 22 38]\n"
          ],
          "name": "stdout"
        }
      ]
    }
  ]
}