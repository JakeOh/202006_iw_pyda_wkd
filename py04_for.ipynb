{
  "nbformat": 4,
  "nbformat_minor": 0,
  "metadata": {
    "colab": {
      "name": "py04_for.ipynb",
      "provenance": [],
      "collapsed_sections": [],
      "authorship_tag": "ABX9TyMrFRI9AfxOMKnWL+9PrrhN",
      "include_colab_link": true
    },
    "kernelspec": {
      "name": "python3",
      "display_name": "Python 3"
    }
  },
  "cells": [
    {
      "cell_type": "markdown",
      "metadata": {
        "id": "view-in-github",
        "colab_type": "text"
      },
      "source": [
        "<a href=\"https://colab.research.google.com/github/JakeOh/202006_iw_pyda_wkd/blob/master/py04_for.ipynb\" target=\"_parent\"><img src=\"https://colab.research.google.com/assets/colab-badge.svg\" alt=\"Open In Colab\"/></a>"
      ]
    },
    {
      "cell_type": "code",
      "metadata": {
        "id": "jotCy2uyQYCa",
        "colab_type": "code",
        "colab": {
          "base_uri": "https://localhost:8080/",
          "height": 103
        },
        "outputId": "0c11a878-39cb-4d6f-bd9c-70eb1164503c"
      },
      "source": [
        "print('*')\n",
        "print('**')\n",
        "print('***')\n",
        "print('****')\n",
        "print('*****')"
      ],
      "execution_count": 1,
      "outputs": [
        {
          "output_type": "stream",
          "text": [
            "*\n",
            "**\n",
            "***\n",
            "****\n",
            "*****\n"
          ],
          "name": "stdout"
        }
      ]
    },
    {
      "cell_type": "code",
      "metadata": {
        "id": "4eP_5ccbRMYH",
        "colab_type": "code",
        "colab": {
          "base_uri": "https://localhost:8080/",
          "height": 51
        },
        "outputId": "3857595b-6456-4f4b-f552-19329aa46784"
      },
      "source": [
        "sum_of_numbers = 0\n",
        "for n in [1, 3, 5]:\n",
        "    sum_of_numbers += n  # sum_of_numbers = sum_of_numbers + n\n",
        "\n",
        "print('sum =', sum_of_numbers)\n",
        "\n",
        "\"\"\"\n",
        "for 변수 in  리스트/튜플/딕셔너리/...:\n",
        "    반복할 문장들\n",
        "\"\"\""
      ],
      "execution_count": 3,
      "outputs": [
        {
          "output_type": "stream",
          "text": [
            "sum = 9\n"
          ],
          "name": "stdout"
        },
        {
          "output_type": "execute_result",
          "data": {
            "text/plain": [
              "'\\nfor 변수 in  리스트/튜플/딕셔너리/...:\\n    반복할 문장들\\n'"
            ]
          },
          "metadata": {
            "tags": []
          },
          "execution_count": 3
        }
      ]
    },
    {
      "cell_type": "code",
      "metadata": {
        "id": "p4SuKW11Ug_q",
        "colab_type": "code",
        "colab": {
          "base_uri": "https://localhost:8080/",
          "height": 51
        },
        "outputId": "e3ba0723-95e2-451f-bd95-c063712b29e8"
      },
      "source": [
        "# 문자열은 +, * 연산이 가능\n",
        "# +: 두개의 문자열을 이어주는 기능\n",
        "# *: 문자열을 반복해서 늘려주는 기능\n",
        "print('abc' + 'def')\n",
        "print('abc' * 3)"
      ],
      "execution_count": 6,
      "outputs": [
        {
          "output_type": "stream",
          "text": [
            "abcdef\n",
            "abcabcabc\n"
          ],
          "name": "stdout"
        }
      ]
    },
    {
      "cell_type": "code",
      "metadata": {
        "id": "O64fx6HAVRtT",
        "colab_type": "code",
        "colab": {
          "base_uri": "https://localhost:8080/",
          "height": 69
        },
        "outputId": "a6679006-6781-4bd0-97ec-a2d8771fc7cf"
      },
      "source": [
        "print('*' * 1)\n",
        "print('*' * 2)\n",
        "print('*' * 3)"
      ],
      "execution_count": 7,
      "outputs": [
        {
          "output_type": "stream",
          "text": [
            "*\n",
            "**\n",
            "***\n"
          ],
          "name": "stdout"
        }
      ]
    },
    {
      "cell_type": "code",
      "metadata": {
        "id": "xkvjr72fViIZ",
        "colab_type": "code",
        "colab": {
          "base_uri": "https://localhost:8080/",
          "height": 103
        },
        "outputId": "e0158f74-da15-4f66-8c3b-3c190558e106"
      },
      "source": [
        "for n in (1, 2, 3, 4, 5):\n",
        "    print('*' * n)"
      ],
      "execution_count": 9,
      "outputs": [
        {
          "output_type": "stream",
          "text": [
            "*\n",
            "**\n",
            "***\n",
            "****\n",
            "*****\n"
          ],
          "name": "stdout"
        }
      ]
    },
    {
      "cell_type": "code",
      "metadata": {
        "id": "fLEV7JDCWk3Z",
        "colab_type": "code",
        "colab": {
          "base_uri": "https://localhost:8080/",
          "height": 69
        },
        "outputId": "890a515d-24a6-4873-899e-6ae6f486f7ef"
      },
      "source": [
        "# range(start, end, step)\n",
        "# start <= x < end 범위 안의 숫자들을 만들어주는 기능.\n",
        "# step만큼씩 자동으로 늘려줌. step이 1일 때는 생략 가능.\n",
        "for x in range(1, 6, 2):\n",
        "    print(x)"
      ],
      "execution_count": 13,
      "outputs": [
        {
          "output_type": "stream",
          "text": [
            "1\n",
            "3\n",
            "5\n"
          ],
          "name": "stdout"
        }
      ]
    },
    {
      "cell_type": "code",
      "metadata": {
        "id": "kqp7D2KnYPjw",
        "colab_type": "code",
        "colab": {
          "base_uri": "https://localhost:8080/",
          "height": 103
        },
        "outputId": "b0edb40a-223f-4a33-8cc7-9a800ff61461"
      },
      "source": [
        "for x in range(5, 0, -1):\n",
        "    print(x)"
      ],
      "execution_count": 14,
      "outputs": [
        {
          "output_type": "stream",
          "text": [
            "5\n",
            "4\n",
            "3\n",
            "2\n",
            "1\n"
          ],
          "name": "stdout"
        }
      ]
    },
    {
      "cell_type": "code",
      "metadata": {
        "id": "8sa8ZPmOX7Ob",
        "colab_type": "code",
        "colab": {
          "base_uri": "https://localhost:8080/",
          "height": 69
        },
        "outputId": "5bb50830-7ba2-4355-f423-257161fb49d7"
      },
      "source": [
        "# range(end): 0 <= x < end 미만의 1씩 증가하는 숫자들\n",
        "for x in range(3):\n",
        "    print(x)"
      ],
      "execution_count": 15,
      "outputs": [
        {
          "output_type": "stream",
          "text": [
            "0\n",
            "1\n",
            "2\n"
          ],
          "name": "stdout"
        }
      ]
    },
    {
      "cell_type": "code",
      "metadata": {
        "id": "oAgh0uNrbGB5",
        "colab_type": "code",
        "colab": {
          "base_uri": "https://localhost:8080/",
          "height": 69
        },
        "outputId": "d071e8d2-2d54-4850-c340-2d8be2fa6229"
      },
      "source": [
        "# 빈 리스트(empty list) 생성\n",
        "numbers = []\n",
        "print(numbers)\n",
        "numbers.append(1)\n",
        "print(numbers)\n",
        "numbers.append(2)\n",
        "print(numbers)"
      ],
      "execution_count": 18,
      "outputs": [
        {
          "output_type": "stream",
          "text": [
            "[]\n",
            "[1]\n",
            "[1, 2]\n"
          ],
          "name": "stdout"
        }
      ]
    },
    {
      "cell_type": "code",
      "metadata": {
        "id": "5QjxHsNpbuOI",
        "colab_type": "code",
        "colab": {
          "base_uri": "https://localhost:8080/",
          "height": 189
        },
        "outputId": "6ad7fcbd-543c-4801-9c64-75015a6a4328"
      },
      "source": [
        "# 빈 리스트에 10 이하의 양의 정수들을 저장: [1, 2, 3, ..., 10]\n",
        "numbers = []\n",
        "for n in range(1, 11):\n",
        "    numbers.append(n)\n",
        "    print(numbers)"
      ],
      "execution_count": 20,
      "outputs": [
        {
          "output_type": "stream",
          "text": [
            "[1]\n",
            "[1, 2]\n",
            "[1, 2, 3]\n",
            "[1, 2, 3, 4]\n",
            "[1, 2, 3, 4, 5]\n",
            "[1, 2, 3, 4, 5, 6]\n",
            "[1, 2, 3, 4, 5, 6, 7]\n",
            "[1, 2, 3, 4, 5, 6, 7, 8]\n",
            "[1, 2, 3, 4, 5, 6, 7, 8, 9]\n",
            "[1, 2, 3, 4, 5, 6, 7, 8, 9, 10]\n"
          ],
          "name": "stdout"
        }
      ]
    },
    {
      "cell_type": "code",
      "metadata": {
        "id": "ZKsHr7Ftc5yJ",
        "colab_type": "code",
        "colab": {
          "base_uri": "https://localhost:8080/",
          "height": 103
        },
        "outputId": "009aaddd-3db3-46c8-9147-422dcac302a3"
      },
      "source": [
        "# 빈 리스트에 10 이하의 양의 정수들 중에서 짝수만 저장: [2, 4, 6, 8, 10]\n",
        "numbers = []\n",
        "for n in range(2, 11, 2):\n",
        "    numbers.append(n)\n",
        "    print(numbers)"
      ],
      "execution_count": 21,
      "outputs": [
        {
          "output_type": "stream",
          "text": [
            "[2]\n",
            "[2, 4]\n",
            "[2, 4, 6]\n",
            "[2, 4, 6, 8]\n",
            "[2, 4, 6, 8, 10]\n"
          ],
          "name": "stdout"
        }
      ]
    },
    {
      "cell_type": "code",
      "metadata": {
        "id": "dUD7IGJQd8JK",
        "colab_type": "code",
        "colab": {
          "base_uri": "https://localhost:8080/",
          "height": 103
        },
        "outputId": "dcb31bc2-7c77-4362-8bd9-a2bfcfd2644f"
      },
      "source": [
        "numbers = []\n",
        "for n in range(1, 11):  # 1 <= n < 11 범위의 정수들\n",
        "    if n % 2 == 0: # 2로 나눈 나머지가 0이면(짝수이면)\n",
        "        numbers.append(n)\n",
        "    print(numbers)"
      ],
      "execution_count": 23,
      "outputs": [
        {
          "output_type": "stream",
          "text": [
            "[2]\n",
            "[2, 4]\n",
            "[2, 4, 6]\n",
            "[2, 4, 6, 8]\n",
            "[2, 4, 6, 8, 10]\n"
          ],
          "name": "stdout"
        }
      ]
    },
    {
      "cell_type": "code",
      "metadata": {
        "id": "oMijvSmogMPS",
        "colab_type": "code",
        "colab": {
          "base_uri": "https://localhost:8080/",
          "height": 120
        },
        "outputId": "e10fb2a4-f659-4050-e32a-1c774d439bad"
      },
      "source": [
        "# break: 반복문을 중간에 종료하고 싶을 때 사용\n",
        "for n in range(10):  # 0 <= n < 10 범위의 정수들 중에서\n",
        "    print(n)\n",
        "    if n >= 5: # 만약 n이 5이상이 되면\n",
        "        break  # 반복문을 멈춤"
      ],
      "execution_count": 26,
      "outputs": [
        {
          "output_type": "stream",
          "text": [
            "0\n",
            "1\n",
            "2\n",
            "3\n",
            "4\n",
            "5\n"
          ],
          "name": "stdout"
        }
      ]
    },
    {
      "cell_type": "code",
      "metadata": {
        "id": "0zZ352_ph9oy",
        "colab_type": "code",
        "colab": {
          "base_uri": "https://localhost:8080/",
          "height": 86
        },
        "outputId": "27f5845a-50b8-4b6a-ba45-945acc59dbce"
      },
      "source": [
        "# continue: continue 아래의 문장들을 실행하지 않고,\n",
        "# 다음 반복 위해서 반복문의 시작부분으로 되돌아 가는 기능.\n",
        "for n in range(5):  # 0 <= n < 5 범위의 정수들 중에서\n",
        "    if n == 3:\n",
        "        continue\n",
        "    print(n)"
      ],
      "execution_count": 27,
      "outputs": [
        {
          "output_type": "stream",
          "text": [
            "0\n",
            "1\n",
            "2\n",
            "4\n"
          ],
          "name": "stdout"
        }
      ]
    },
    {
      "cell_type": "code",
      "metadata": {
        "id": "_LxR6Hohj8u6",
        "colab_type": "code",
        "colab": {
          "base_uri": "https://localhost:8080/",
          "height": 69
        },
        "outputId": "b969801f-52b9-4727-a227-91bbd3bafb0e"
      },
      "source": [
        "# dict: key-value 쌍으로 이루어진 데이터들을 저장하는 자료 타입.\n",
        "cities = {'Seoul': 'Korea',\n",
        "          'Washington': 'USA',\n",
        "          'London': 'UK'}\n",
        "for capital in cities:\n",
        "    print(capital, cities[capital])\n",
        "# for-in 구문에서 dict를 사용하면, dict의 키를 차례대로 추출하는 동작을 반복."
      ],
      "execution_count": 29,
      "outputs": [
        {
          "output_type": "stream",
          "text": [
            "Seoul Korea\n",
            "Washington USA\n",
            "London UK\n"
          ],
          "name": "stdout"
        }
      ]
    },
    {
      "cell_type": "code",
      "metadata": {
        "id": "wea7-avXl2OC",
        "colab_type": "code",
        "colab": {
          "base_uri": "https://localhost:8080/",
          "height": 69
        },
        "outputId": "5bb9c86c-9032-4b96-d689-3d2b993abe64"
      },
      "source": [
        "# dict의 value들만 선택하고 싶을 때\n",
        "for country in cities.values():\n",
        "    print(country)"
      ],
      "execution_count": 30,
      "outputs": [
        {
          "output_type": "stream",
          "text": [
            "Korea\n",
            "USA\n",
            "UK\n"
          ],
          "name": "stdout"
        }
      ]
    },
    {
      "cell_type": "code",
      "metadata": {
        "id": "zFckD7jPmcxp",
        "colab_type": "code",
        "colab": {
          "base_uri": "https://localhost:8080/",
          "height": 69
        },
        "outputId": "5902e1dd-5ec0-4267-83d5-f8dfad324d4e"
      },
      "source": [
        "# dict에서 key, value 모두 반복하고 싶을 때:\n",
        "for city, country in cities.items():\n",
        "    print(city, country)"
      ],
      "execution_count": 31,
      "outputs": [
        {
          "output_type": "stream",
          "text": [
            "Seoul Korea\n",
            "Washington USA\n",
            "London UK\n"
          ],
          "name": "stdout"
        }
      ]
    },
    {
      "cell_type": "code",
      "metadata": {
        "id": "c4RDtyGSp2KR",
        "colab_type": "code",
        "colab": {
          "base_uri": "https://localhost:8080/",
          "height": 34
        },
        "outputId": "82fc94c2-ddcb-494c-f9ff-4248b28a0a53"
      },
      "source": [
        "# list comprehension\n",
        "numbers = [1, 2, 3, 4, 5, 6]\n",
        "# numbers 안의 숫자들 중에서 짝수들로만 이루어진 새로운 리스트 evens 생성\n",
        "# evens = []\n",
        "# for x in numbers:  # numbers 안의 숫자들 중에서\n",
        "#     if x % 2 == 0:  # x가 짝수이면\n",
        "#         evens.append(x)\n",
        "evens = [x for x in numbers if x % 2 == 0]\n",
        "\n",
        "print(evens)\n",
        "# Ctrl+/ : 주석 토글 기능"
      ],
      "execution_count": 38,
      "outputs": [
        {
          "output_type": "stream",
          "text": [
            "[2, 4, 6]\n"
          ],
          "name": "stdout"
        }
      ]
    },
    {
      "cell_type": "code",
      "metadata": {
        "id": "nKFCRYeAsnrR",
        "colab_type": "code",
        "colab": {
          "base_uri": "https://localhost:8080/",
          "height": 34
        },
        "outputId": "e3a447b6-8e2c-4d4e-9cc8-1d3f0acac4db"
      },
      "source": [
        "genders = ['male', 'female', 'female', 'male']\n",
        "gender_code = []  # male - 0, female - 1\n",
        "for g in genders:\n",
        "    if g == 'male':\n",
        "        gender_code.append(0)\n",
        "    else:\n",
        "        gender_code.append(1)\n",
        "print(gender_code)"
      ],
      "execution_count": 35,
      "outputs": [
        {
          "output_type": "stream",
          "text": [
            "[0, 1, 1, 0]\n"
          ],
          "name": "stdout"
        }
      ]
    },
    {
      "cell_type": "code",
      "metadata": {
        "id": "Gkk6xGERuKzp",
        "colab_type": "code",
        "colab": {
          "base_uri": "https://localhost:8080/",
          "height": 34
        },
        "outputId": "10219956-83e3-4bcd-a97a-32950909b447"
      },
      "source": [
        "gender_code2 = [0 if gender == 'male' else 1 \n",
        "                for gender in genders]\n",
        "print(gender_code2)"
      ],
      "execution_count": 36,
      "outputs": [
        {
          "output_type": "stream",
          "text": [
            "[0, 1, 1, 0]\n"
          ],
          "name": "stdout"
        }
      ]
    },
    {
      "cell_type": "code",
      "metadata": {
        "id": "pD92PADSw46A",
        "colab_type": "code",
        "colab": {
          "base_uri": "https://localhost:8080/",
          "height": 1000
        },
        "outputId": "2ebf4ac0-7710-4adf-dd0e-26722c018169"
      },
      "source": [
        "# 2중 반복문\n",
        "for x in range(1, 10):\n",
        "    for y in range(1, 10):\n",
        "        print(f'{x} x {y} = {x * y}')\n",
        "    print('-' * 20)"
      ],
      "execution_count": 39,
      "outputs": [
        {
          "output_type": "stream",
          "text": [
            "1 x 1 = 1\n",
            "1 x 2 = 2\n",
            "1 x 3 = 3\n",
            "1 x 4 = 4\n",
            "1 x 5 = 5\n",
            "1 x 6 = 6\n",
            "1 x 7 = 7\n",
            "1 x 8 = 8\n",
            "1 x 9 = 9\n",
            "--------------------\n",
            "2 x 1 = 2\n",
            "2 x 2 = 4\n",
            "2 x 3 = 6\n",
            "2 x 4 = 8\n",
            "2 x 5 = 10\n",
            "2 x 6 = 12\n",
            "2 x 7 = 14\n",
            "2 x 8 = 16\n",
            "2 x 9 = 18\n",
            "--------------------\n",
            "3 x 1 = 3\n",
            "3 x 2 = 6\n",
            "3 x 3 = 9\n",
            "3 x 4 = 12\n",
            "3 x 5 = 15\n",
            "3 x 6 = 18\n",
            "3 x 7 = 21\n",
            "3 x 8 = 24\n",
            "3 x 9 = 27\n",
            "--------------------\n",
            "4 x 1 = 4\n",
            "4 x 2 = 8\n",
            "4 x 3 = 12\n",
            "4 x 4 = 16\n",
            "4 x 5 = 20\n",
            "4 x 6 = 24\n",
            "4 x 7 = 28\n",
            "4 x 8 = 32\n",
            "4 x 9 = 36\n",
            "--------------------\n",
            "5 x 1 = 5\n",
            "5 x 2 = 10\n",
            "5 x 3 = 15\n",
            "5 x 4 = 20\n",
            "5 x 5 = 25\n",
            "5 x 6 = 30\n",
            "5 x 7 = 35\n",
            "5 x 8 = 40\n",
            "5 x 9 = 45\n",
            "--------------------\n",
            "6 x 1 = 6\n",
            "6 x 2 = 12\n",
            "6 x 3 = 18\n",
            "6 x 4 = 24\n",
            "6 x 5 = 30\n",
            "6 x 6 = 36\n",
            "6 x 7 = 42\n",
            "6 x 8 = 48\n",
            "6 x 9 = 54\n",
            "--------------------\n",
            "7 x 1 = 7\n",
            "7 x 2 = 14\n",
            "7 x 3 = 21\n",
            "7 x 4 = 28\n",
            "7 x 5 = 35\n",
            "7 x 6 = 42\n",
            "7 x 7 = 49\n",
            "7 x 8 = 56\n",
            "7 x 9 = 63\n",
            "--------------------\n",
            "8 x 1 = 8\n",
            "8 x 2 = 16\n",
            "8 x 3 = 24\n",
            "8 x 4 = 32\n",
            "8 x 5 = 40\n",
            "8 x 6 = 48\n",
            "8 x 7 = 56\n",
            "8 x 8 = 64\n",
            "8 x 9 = 72\n",
            "--------------------\n",
            "9 x 1 = 9\n",
            "9 x 2 = 18\n",
            "9 x 3 = 27\n",
            "9 x 4 = 36\n",
            "9 x 5 = 45\n",
            "9 x 6 = 54\n",
            "9 x 7 = 63\n",
            "9 x 8 = 72\n",
            "9 x 9 = 81\n",
            "--------------------\n"
          ],
          "name": "stdout"
        }
      ]
    },
    {
      "cell_type": "code",
      "metadata": {
        "id": "HYeqCsbCEjRH",
        "colab_type": "code",
        "colab": {
          "base_uri": "https://localhost:8080/",
          "height": 69
        },
        "outputId": "dd383472-30bc-4886-d527-96aaa30eec92"
      },
      "source": [
        "# dictionary comprehension\n",
        "data = {}  # empty dict\n",
        "print(data)\n",
        "data[1] = 'apple'  # dict_name[key] = value\n",
        "print(data)\n",
        "data[100] = 'MS'\n",
        "print(data)"
      ],
      "execution_count": 41,
      "outputs": [
        {
          "output_type": "stream",
          "text": [
            "{}\n",
            "{1: 'apple'}\n",
            "{1: 'apple', 100: 'MS'}\n"
          ],
          "name": "stdout"
        }
      ]
    },
    {
      "cell_type": "code",
      "metadata": {
        "id": "mSGzSa4XFrHn",
        "colab_type": "code",
        "colab": {
          "base_uri": "https://localhost:8080/",
          "height": 86
        },
        "outputId": "15b0b0bc-3557-4c02-fc87-4a6d43de807b"
      },
      "source": [
        "product_id = [100, 101, 200, 201]\n",
        "product_name = ['iphone', 'galaxy', 'TV', 'Blueray']\n",
        "for id_, name in zip(product_id, product_name):\n",
        "    print(id_, name)"
      ],
      "execution_count": 43,
      "outputs": [
        {
          "output_type": "stream",
          "text": [
            "100 iphone\n",
            "101 galaxy\n",
            "200 TV\n",
            "201 Blueray\n"
          ],
          "name": "stdout"
        }
      ]
    },
    {
      "cell_type": "code",
      "metadata": {
        "id": "mF3MUwOPHCAe",
        "colab_type": "code",
        "colab": {
          "base_uri": "https://localhost:8080/",
          "height": 34
        },
        "outputId": "088b5588-5dda-4f25-f164-985198e8e9d5"
      },
      "source": [
        "products = {}  # empty dict\n",
        "for id_, name in zip(product_id, product_name):\n",
        "    products[id_] = name  # 빈 dict에 새로운 원소(key-value) 추가\n",
        "print(products)"
      ],
      "execution_count": 44,
      "outputs": [
        {
          "output_type": "stream",
          "text": [
            "{100: 'iphone', 101: 'galaxy', 200: 'TV', 201: 'Blueray'}\n"
          ],
          "name": "stdout"
        }
      ]
    },
    {
      "cell_type": "code",
      "metadata": {
        "id": "7snvnS-1HpBu",
        "colab_type": "code",
        "colab": {
          "base_uri": "https://localhost:8080/",
          "height": 34
        },
        "outputId": "1a0e4828-c583-4368-825a-0f1d2847d0c0"
      },
      "source": [
        "# dictionary comprehension\n",
        "products2 = {key: value for key, value in zip(product_id, product_name)}\n",
        "print(products2)"
      ],
      "execution_count": 45,
      "outputs": [
        {
          "output_type": "stream",
          "text": [
            "{100: 'iphone', 101: 'galaxy', 200: 'TV', 201: 'Blueray'}\n"
          ],
          "name": "stdout"
        }
      ]
    }
  ]
}