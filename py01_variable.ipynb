{
  "nbformat": 4,
  "nbformat_minor": 0,
  "metadata": {
    "colab": {
      "name": "py01_variable.ipynb",
      "provenance": [],
      "collapsed_sections": [],
      "authorship_tag": "ABX9TyPxywvHInSD2gDT6w0mX3Be",
      "include_colab_link": true
    },
    "kernelspec": {
      "name": "python3",
      "display_name": "Python 3"
    }
  },
  "cells": [
    {
      "cell_type": "markdown",
      "metadata": {
        "id": "view-in-github",
        "colab_type": "text"
      },
      "source": [
        "<a href=\"https://colab.research.google.com/github/JakeOh/202006_iw_pyda_wkd/blob/master/py01_variable.ipynb\" target=\"_parent\"><img src=\"https://colab.research.google.com/assets/colab-badge.svg\" alt=\"Open In Colab\"/></a>"
      ]
    },
    {
      "cell_type": "markdown",
      "metadata": {
        "id": "HgHukD_BaHhi",
        "colab_type": "text"
      },
      "source": [
        "# 변수(Variable)"
      ]
    },
    {
      "cell_type": "code",
      "metadata": {
        "id": "bm7Y8XydZbL8",
        "colab_type": "code",
        "colab": {
          "base_uri": "https://localhost:8080/",
          "height": 51
        },
        "outputId": "a485bc13-ac2e-4b5f-e1cd-62ef1a5b5d5f"
      },
      "source": [
        "# 변수: 데이터(자료)를 저장하는 공간\n",
        "# 데이터(자료): 숫자형 자료, 문자열 자료, 논리형 자료, ...\n",
        "\n",
        "x = 100  # 변수 x에 숫자 100을 저장\n",
        "print(x)\n",
        "print(x + 10)"
      ],
      "execution_count": 2,
      "outputs": [
        {
          "output_type": "stream",
          "text": [
            "100\n",
            "110\n"
          ],
          "name": "stdout"
        }
      ]
    },
    {
      "cell_type": "code",
      "metadata": {
        "id": "sVWm9O2Tcv6J",
        "colab_type": "code",
        "colab": {
          "base_uri": "https://localhost:8080/",
          "height": 34
        },
        "outputId": "92e66862-0f30-4a4f-d1ee-1b55e08f0fa6"
      },
      "source": [
        "name = '오쌤'  # name 변수에 '오쌤' 문자열 값을 저장\n",
        "# 파이썬에서 문자열은 작은따옴표('') 또는 큰따옴표(\"\")로 감쌈.\n",
        "print(name)"
      ],
      "execution_count": 3,
      "outputs": [
        {
          "output_type": "stream",
          "text": [
            "오쌤\n"
          ],
          "name": "stdout"
        }
      ]
    },
    {
      "cell_type": "code",
      "metadata": {
        "id": "R_p4vPArdYmB",
        "colab_type": "code",
        "colab": {
          "base_uri": "https://localhost:8080/",
          "height": 34
        },
        "outputId": "39bbe4c4-47a3-4055-8dea-3267abf73a68"
      },
      "source": [
        "true_or_not = (100 < 99)  # True/False 타입 - bool(논리) 타입\n",
        "print(true_or_not)\n",
        "# Ctrl+Space: 코드 추천/자동 완성 기능"
      ],
      "execution_count": 5,
      "outputs": [
        {
          "output_type": "stream",
          "text": [
            "False\n"
          ],
          "name": "stdout"
        }
      ]
    },
    {
      "cell_type": "markdown",
      "metadata": {
        "id": "uTuxQdr6e9eI",
        "colab_type": "text"
      },
      "source": [
        "# 연산자(Operator)"
      ]
    },
    {
      "cell_type": "code",
      "metadata": {
        "id": "kWX_v4mleYWx",
        "colab_type": "code",
        "colab": {
          "base_uri": "https://localhost:8080/",
          "height": 137
        },
        "outputId": "09d29118-37f1-45bd-d22a-dcf195df54d0"
      },
      "source": [
        "# 변수 x에 숫자 123를 저장\n",
        "x = 123\n",
        "# 변수 y에 숫자 100을 저장\n",
        "y = 100\n",
        "\n",
        "# 산술 연산자: +, -, *, /, %, //, **\n",
        "print('x + y =', x + y)\n",
        "print('x - y =', x - y)\n",
        "print('x * y =', x * y)    # 곱셈\n",
        "print('x / y =', x / y)    # 나눗셈\n",
        "print('x % y =', x % y)    # 나눈 나머지\n",
        "print('x // y =', x // y)  # 나눈 몫\n",
        "print('10 ** 3 =', 10 ** 3)  # 거듭 제곱"
      ],
      "execution_count": 11,
      "outputs": [
        {
          "output_type": "stream",
          "text": [
            "x + y = 223\n",
            "x - y = 23\n",
            "x * y = 12300\n",
            "x / y = 1.23\n",
            "x % y = 23\n",
            "x // y = 1\n",
            "10 ** 3 = 1000\n"
          ],
          "name": "stdout"
        }
      ]
    },
    {
      "cell_type": "code",
      "metadata": {
        "id": "sAB2FXcPltPq",
        "colab_type": "code",
        "colab": {
          "base_uri": "https://localhost:8080/",
          "height": 51
        },
        "outputId": "b29ff02f-e656-49d3-e2f3-e611e765be88"
      },
      "source": [
        "# 할당(대입) 연산자, 복합 할당(대입) 연산자\n",
        "# assignment operators: =, +=, -=, *=, /=, %=, ...\n",
        "# 변수이름 = 값: 등호 오른쪽의 값을 왼쪽의 변수에 저장(할당)\n",
        "\n",
        "x = 10  # 변수 x에 숫자 10을 저장\n",
        "print('x =', x)\n",
        "\n",
        "x = x + 1  # (x + 1)의 결과를 변수 x에 저장\n",
        "print('x =', x)"
      ],
      "execution_count": 12,
      "outputs": [
        {
          "output_type": "stream",
          "text": [
            "x = 10\n",
            "x = 11\n"
          ],
          "name": "stdout"
        }
      ]
    },
    {
      "cell_type": "code",
      "metadata": {
        "id": "wyjEIe3OnnVD",
        "colab_type": "code",
        "colab": {
          "base_uri": "https://localhost:8080/",
          "height": 51
        },
        "outputId": "758ec8fb-12cf-486a-c46a-c4771d14b194"
      },
      "source": [
        "x = 10\n",
        "print('x =', x)\n",
        "x += 1  # x = x + 1를 간단히 표현한 것이 복합 할당 연산자\n",
        "print('x =', x)"
      ],
      "execution_count": 13,
      "outputs": [
        {
          "output_type": "stream",
          "text": [
            "x = 10\n",
            "x = 11\n"
          ],
          "name": "stdout"
        }
      ]
    },
    {
      "cell_type": "code",
      "metadata": {
        "id": "V4GLEwGxo3uJ",
        "colab_type": "code",
        "colab": {
          "base_uri": "https://localhost:8080/",
          "height": 86
        },
        "outputId": "0aecbfad-03db-4415-87a4-a44e2e17ca15"
      },
      "source": [
        "# 비교 연산자: 좌변과 우변을 비교해서 True 또는 False 값을 반환하는 연산.\n",
        "# ==, !=, >, >=, <, <=\n",
        "# 논리 연산자: and, or, not\n",
        "\n",
        "x, y = 10, 7\n",
        "print(x == y)\n",
        "print(x != y)\n",
        "print(x > y)\n",
        "print(x < y)"
      ],
      "execution_count": 16,
      "outputs": [
        {
          "output_type": "stream",
          "text": [
            "False\n",
            "True\n",
            "True\n",
            "False\n"
          ],
          "name": "stdout"
        }
      ]
    },
    {
      "cell_type": "code",
      "metadata": {
        "id": "sCdCv--bqsuF",
        "colab_type": "code",
        "colab": {
          "base_uri": "https://localhost:8080/",
          "height": 86
        },
        "outputId": "8bab0cb3-d8e1-4d10-a318-ce7b2d9ed6e5"
      },
      "source": [
        "x, y = 10, 7\n",
        "print((x > 5) and (y > 5))\n",
        "print((x > 8) and (y > 8))\n",
        "print((x > 8) or (y > 8))\n",
        "print(not (x > 8))"
      ],
      "execution_count": 21,
      "outputs": [
        {
          "output_type": "stream",
          "text": [
            "True\n",
            "False\n",
            "True\n",
            "False\n"
          ],
          "name": "stdout"
        }
      ]
    }
  ]
}