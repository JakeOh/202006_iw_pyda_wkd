{
  "nbformat": 4,
  "nbformat_minor": 0,
  "metadata": {
    "colab": {
      "name": "py07_class.ipynb",
      "provenance": [],
      "collapsed_sections": [],
      "authorship_tag": "ABX9TyPhJYIA010VDV3NXwoSaOhK",
      "include_colab_link": true
    },
    "kernelspec": {
      "name": "python3",
      "display_name": "Python 3"
    }
  },
  "cells": [
    {
      "cell_type": "markdown",
      "metadata": {
        "id": "view-in-github",
        "colab_type": "text"
      },
      "source": [
        "<a href=\"https://colab.research.google.com/github/JakeOh/202006_iw_pyda_wkd/blob/master/py07_class.ipynb\" target=\"_parent\"><img src=\"https://colab.research.google.com/assets/colab-badge.svg\" alt=\"Open In Colab\"/></a>"
      ]
    },
    {
      "cell_type": "code",
      "metadata": {
        "id": "yOQ6iLggiEBI",
        "colab_type": "code",
        "colab": {}
      },
      "source": [
        "# 클래스(class): 데이터(변수)와 기능(함수)을 함께 가지고 있는 자료 타입(이름)\n",
        "# 속성(attribute, property): 클래스가 가지고 있는 변수(데이터)\n",
        "# 메서드(method): 클래스가 가지고 있는 함수(기능)\n",
        "class Calculator:\n",
        "    def __init__(self, x, y):  # initialization 함수\n",
        "        self.x = x\n",
        "        self.y = y\n",
        "\n",
        "    def add(self):\n",
        "        return self.x + self.y\n",
        "\n",
        "    def subtract(self):\n",
        "        return self.x - self.y\n"
      ],
      "execution_count": 0,
      "outputs": []
    },
    {
      "cell_type": "code",
      "metadata": {
        "id": "q1yjNuR-kK5k",
        "colab_type": "code",
        "colab": {
          "base_uri": "https://localhost:8080/",
          "height": 86
        },
        "outputId": "bedaca99-de91-4f9b-eeab-0d7917505e20"
      },
      "source": [
        "calc = Calculator(1, 2)  # 클래스 Calculator의 instance를 생성\n",
        "# Calculator(): 생성자(constructor) - 클래스 이름과 동일\n",
        "# 생성자를 호출하면 __init__() 메서드가 자동으로 호출\n",
        "print(calc.x)\n",
        "print(calc.y)\n",
        "add = calc.add()\n",
        "print('add =', add)\n",
        "sub = calc.subtract()\n",
        "print('sub =', sub)"
      ],
      "execution_count": 18,
      "outputs": [
        {
          "output_type": "stream",
          "text": [
            "1\n",
            "2\n",
            "add = 3\n",
            "sub = -1\n"
          ],
          "name": "stdout"
        }
      ]
    },
    {
      "cell_type": "code",
      "metadata": {
        "id": "DXNNSCSanU8T",
        "colab_type": "code",
        "colab": {
          "base_uri": "https://localhost:8080/",
          "height": 69
        },
        "outputId": "0ee3904f-e6a2-43fc-c3f8-0b743077732f"
      },
      "source": [
        "calc2 = Calculator(x=3, y=4)\n",
        "print(calc2.x)\n",
        "print(calc2.y)\n",
        "print('add =', calc2.add())"
      ],
      "execution_count": 19,
      "outputs": [
        {
          "output_type": "stream",
          "text": [
            "3\n",
            "4\n",
            "add = 7\n"
          ],
          "name": "stdout"
        }
      ]
    },
    {
      "cell_type": "code",
      "metadata": {
        "id": "vJYbXfnpu-RD",
        "colab_type": "code",
        "colab": {
          "base_uri": "https://localhost:8080/",
          "height": 34
        },
        "outputId": "3a5c956a-a64a-4dc9-a9ee-34b5086230a0"
      },
      "source": [
        "print(type(calc))"
      ],
      "execution_count": 21,
      "outputs": [
        {
          "output_type": "stream",
          "text": [
            "<class '__main__.Calculator'>\n"
          ],
          "name": "stdout"
        }
      ]
    },
    {
      "cell_type": "code",
      "metadata": {
        "id": "01xwFGFXvN0K",
        "colab_type": "code",
        "colab": {
          "base_uri": "https://localhost:8080/",
          "height": 34
        },
        "outputId": "525c1f20-d78f-4205-ecb1-4d0cdd8bd026"
      },
      "source": [
        "x = 'abc'\n",
        "print(type(x))"
      ],
      "execution_count": 26,
      "outputs": [
        {
          "output_type": "stream",
          "text": [
            "<class 'str'>\n"
          ],
          "name": "stdout"
        }
      ]
    },
    {
      "cell_type": "code",
      "metadata": {
        "id": "bR-UwU_2wHEj",
        "colab_type": "code",
        "colab": {
          "base_uri": "https://localhost:8080/",
          "height": 51
        },
        "outputId": "616c597e-64ef-4851-e3c3-6a9197d2730a"
      },
      "source": [
        "s1 = 'Hello, Python!'\n",
        "s2 = '안녕, Python'\n",
        "\n",
        "print(s1.lower())  # upper()\n",
        "print(s2.lower())"
      ],
      "execution_count": 28,
      "outputs": [
        {
          "output_type": "stream",
          "text": [
            "hello, python!\n",
            "안녕, python\n"
          ],
          "name": "stdout"
        }
      ]
    },
    {
      "cell_type": "code",
      "metadata": {
        "id": "KX6LKeh3xKBT",
        "colab_type": "code",
        "colab": {
          "base_uri": "https://localhost:8080/",
          "height": 34
        },
        "outputId": "9184417c-967f-483d-ea9e-615eb889668a"
      },
      "source": [
        "data = '1,F,16,170,65,normal'\n",
        "# csv(comma-separated values)\n",
        "result = data.split(',')\n",
        "print(result)"
      ],
      "execution_count": 33,
      "outputs": [
        {
          "output_type": "stream",
          "text": [
            "['1', 'F', '16', '170', '65', 'normal']\n"
          ],
          "name": "stdout"
        }
      ]
    },
    {
      "cell_type": "code",
      "metadata": {
        "id": "b8waO-dG0UHS",
        "colab_type": "code",
        "colab": {
          "base_uri": "https://localhost:8080/",
          "height": 51
        },
        "outputId": "869706d2-4d55-42d7-d444-eb4d9ab1cd02"
      },
      "source": [
        "log = '       abc .... 1234     hello             '\n",
        "print(log)\n",
        "print(log.strip())"
      ],
      "execution_count": 35,
      "outputs": [
        {
          "output_type": "stream",
          "text": [
            "       abc .... 1234     hello             \n",
            "abc .... 1234     hello\n"
          ],
          "name": "stdout"
        }
      ]
    },
    {
      "cell_type": "code",
      "metadata": {
        "id": "iNguubyP1mpk",
        "colab_type": "code",
        "colab": {
          "base_uri": "https://localhost:8080/",
          "height": 69
        },
        "outputId": "2d2ee895-9221-4e72-c6d7-0ec6d70fed86"
      },
      "source": [
        "url = 'https://www.google.com/'\n",
        "print(url.startswith('http'))\n",
        "print(url.startswith('ftp'))\n",
        "print(url.find('www'))"
      ],
      "execution_count": 40,
      "outputs": [
        {
          "output_type": "stream",
          "text": [
            "True\n",
            "False\n",
            "8\n"
          ],
          "name": "stdout"
        }
      ]
    },
    {
      "cell_type": "code",
      "metadata": {
        "id": "4-_chK835Rt5",
        "colab_type": "code",
        "colab": {
          "base_uri": "https://localhost:8080/",
          "height": 34
        },
        "outputId": "1b5956b0-812e-4809-f8fb-7f65d8d53585"
      },
      "source": [
        "[0 if x == 's' else (1 if x == 'v'  else 2)\n",
        " for x in ['s', 's', 'v', 'v', 'vi', 'vi']]"
      ],
      "execution_count": 42,
      "outputs": [
        {
          "output_type": "execute_result",
          "data": {
            "text/plain": [
              "[0, 0, 1, 1, 2, 2]"
            ]
          },
          "metadata": {
            "tags": []
          },
          "execution_count": 42
        }
      ]
    }
  ]
}