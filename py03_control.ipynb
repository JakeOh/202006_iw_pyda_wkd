{
  "nbformat": 4,
  "nbformat_minor": 0,
  "metadata": {
    "colab": {
      "name": "py03_control.ipynb",
      "provenance": [],
      "collapsed_sections": [],
      "authorship_tag": "ABX9TyNycN+rn/tq5kDTEKAIvMKU",
      "include_colab_link": true
    },
    "kernelspec": {
      "name": "python3",
      "display_name": "Python 3"
    }
  },
  "cells": [
    {
      "cell_type": "markdown",
      "metadata": {
        "id": "view-in-github",
        "colab_type": "text"
      },
      "source": [
        "<a href=\"https://colab.research.google.com/github/JakeOh/202006_iw_pyda_wkd/blob/master/py03_control.ipynb\" target=\"_parent\"><img src=\"https://colab.research.google.com/assets/colab-badge.svg\" alt=\"Open In Colab\"/></a>"
      ]
    },
    {
      "cell_type": "markdown",
      "metadata": {
        "id": "qx6U8OTaiwht",
        "colab_type": "text"
      },
      "source": [
        "# Python 제어문(Control Statements)\n"
      ]
    },
    {
      "cell_type": "markdown",
      "metadata": {
        "id": "qrap4lq5jSb6",
        "colab_type": "text"
      },
      "source": [
        "\n",
        "\n",
        "*   조건문\n",
        "*   반복문\n",
        "\n"
      ]
    },
    {
      "cell_type": "code",
      "metadata": {
        "id": "vYFHhTWAiqZw",
        "colab_type": "code",
        "colab": {
          "base_uri": "https://localhost:8080/",
          "height": 51
        },
        "outputId": "64a65da1-e5a5-4ffa-a9d6-824f39e2cad0"
      },
      "source": [
        "# 키보드 입력\n",
        "name = input('이름 입력>>> ')\n",
        "print('Hello,', name)"
      ],
      "execution_count": 1,
      "outputs": [
        {
          "output_type": "stream",
          "text": [
            "이름 입력>>> 오쌤\n",
            "Hello, 오쌤\n"
          ],
          "name": "stdout"
        }
      ]
    },
    {
      "cell_type": "code",
      "metadata": {
        "id": "IUmefl2RkwJS",
        "colab_type": "code",
        "colab": {
          "base_uri": "https://localhost:8080/",
          "height": 51
        },
        "outputId": "d4b0bbd6-50be-4c45-80e7-75b32fa0e82a"
      },
      "source": [
        "number = int(input('정수 입력>>> '))\n",
        "# 입력받은 문자들을 정수(int)로 변환해서 변수 number에 저장.\n",
        "print(number - 1)"
      ],
      "execution_count": 3,
      "outputs": [
        {
          "output_type": "stream",
          "text": [
            "정수 입력>>> 10\n",
            "9\n"
          ],
          "name": "stdout"
        }
      ]
    },
    {
      "cell_type": "code",
      "metadata": {
        "id": "WBCt9Ce_mJj-",
        "colab_type": "code",
        "colab": {
          "base_uri": "https://localhost:8080/",
          "height": 34
        },
        "outputId": "f8f36565-8e54-4935-9caa-f0b991c749c6"
      },
      "source": [
        "\"\"\"\n",
        "조건문: 조건에 맞는 경우에만 실행하는 문장\n",
        "if 조건식:\n",
        "    조건이 참(True)일 때 실행할 문장들\n",
        "\"\"\"\n",
        "\n",
        "age = int(input('나이 입력>>> '))\n",
        "if age >= 0:  # age의 값이 0보다 크거나 같으면\n",
        "    # 조건식이 참일 때 실행하는 블록(block)\n",
        "    print('나이:', age)\n",
        "print('코드 끝')"
      ],
      "execution_count": 9,
      "outputs": [
        {
          "output_type": "stream",
          "text": [
            "나이 입력>>> -10\n"
          ],
          "name": "stdout"
        }
      ]
    },
    {
      "cell_type": "code",
      "metadata": {
        "id": "Vc4fGhEgr8vu",
        "colab_type": "code",
        "colab": {
          "base_uri": "https://localhost:8080/",
          "height": 51
        },
        "outputId": "bce335b8-7a5d-4908-8721-b1a032b03833"
      },
      "source": [
        "\"\"\"\n",
        "if 조건식:\n",
        "    조건식이 참일 때 실행할 문장들\n",
        "else:\n",
        "    조건식이 거짓일 때 실행할 문장들\n",
        "\"\"\"\n",
        "\n",
        "# 정수 입력 -> 짝수이면 'even'을 출력, 그렇지 않으면 'odd'를 출력\n",
        "number = int(input('정수 입력>>> '))\n",
        "if number % 2 == 0:\n",
        "    print('even')\n",
        "else:\n",
        "    print('odd')"
      ],
      "execution_count": 11,
      "outputs": [
        {
          "output_type": "stream",
          "text": [
            "정수 입력>>> 20\n",
            "even\n"
          ],
          "name": "stdout"
        }
      ]
    },
    {
      "cell_type": "code",
      "metadata": {
        "id": "4sz3cfzIuWgf",
        "colab_type": "code",
        "colab": {
          "base_uri": "https://localhost:8080/",
          "height": 34
        },
        "outputId": "3df79218-92f2-43ea-dca2-0c0853369e93"
      },
      "source": [
        "\"\"\"\n",
        "if 조건식1:\n",
        "    조건식1이 참일 때 실행할 문장들\n",
        "elif 조건식2:\n",
        "    조건식2가 참일 때 실행할 문장들\n",
        "...\n",
        "else:\n",
        "    위의 모든 조건이 거짓일 때 실행할 문장들\n",
        "\"\"\"\n",
        "\n",
        "number = int(input('정수 입력>>> '))\n",
        "if number > 0:\n",
        "    print('positive')\n",
        "elif number == 0:\n",
        "    print('zero')\n",
        "else:\n",
        "    print('negative')"
      ],
      "execution_count": 15,
      "outputs": [
        {
          "output_type": "stream",
          "text": [
            "정수 입력>>> -123\n"
          ],
          "name": "stdout"
        }
      ]
    },
    {
      "cell_type": "code",
      "metadata": {
        "id": "4YcYY29lxH_u",
        "colab_type": "code",
        "colab": {
          "base_uri": "https://localhost:8080/",
          "height": 51
        },
        "outputId": "1207ba4b-46e3-4270-dd3d-312ed6000a45"
      },
      "source": [
        "# 시험 성적(정수) 입력\n",
        "# 90점 이상 -> A\n",
        "# 80점 이상 -> B\n",
        "# 70점 이상 -> C\n",
        "# 70점 미만 -> F\n",
        "\n",
        "score = int(input('시험 점수 입력>>> '))\n",
        "if score >= 90:\n",
        "    print('A')\n",
        "elif score >= 80:\n",
        "    print('B')\n",
        "elif score >= 70:\n",
        "    print('C')\n",
        "else:\n",
        "    print('F')"
      ],
      "execution_count": 16,
      "outputs": [
        {
          "output_type": "stream",
          "text": [
            "시험 점수 입력>>> 69\n",
            "F\n"
          ],
          "name": "stdout"
        }
      ]
    },
    {
      "cell_type": "code",
      "metadata": {
        "id": "VjadJS9ayfOF",
        "colab_type": "code",
        "colab": {
          "base_uri": "https://localhost:8080/",
          "height": 51
        },
        "outputId": "518a6bc3-2959-4610-ce17-c4ea04b7d59f"
      },
      "source": [
        "# 나이 입력 \n",
        "# 입력받은 나이가 0세 이상 200세 미만이면, '정상입력' 출력\n",
        "# 그렇지 않으면, '잘못 입력했습니다.' 출력\n",
        "\n",
        "age = int(input('나이 입력>>> '))\n",
        "# if (age >= 0) and (age < 200):\n",
        "if 0 <= age < 200:\n",
        "    print('정상 입력')\n",
        "else:\n",
        "    print('나이는 0세 이상, 200미만의 숫자까지 입력 가능합니다...')"
      ],
      "execution_count": 22,
      "outputs": [
        {
          "output_type": "stream",
          "text": [
            "나이 입력>>> 199\n",
            "정상 입력\n"
          ],
          "name": "stdout"
        }
      ]
    }
  ]
}