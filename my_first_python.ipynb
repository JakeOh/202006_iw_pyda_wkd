{
  "nbformat": 4,
  "nbformat_minor": 0,
  "metadata": {
    "colab": {
      "name": "my_first_python.ipynb",
      "provenance": [],
      "collapsed_sections": [],
      "authorship_tag": "ABX9TyOptlKxBhZOLKKM/Klq37DZ",
      "include_colab_link": true
    },
    "kernelspec": {
      "name": "python3",
      "display_name": "Python 3"
    }
  },
  "cells": [
    {
      "cell_type": "markdown",
      "metadata": {
        "id": "view-in-github",
        "colab_type": "text"
      },
      "source": [
        "<a href=\"https://colab.research.google.com/github/JakeOh/202006_iw_pyda_wkd/blob/master/my_first_python.ipynb\" target=\"_parent\"><img src=\"https://colab.research.google.com/assets/colab-badge.svg\" alt=\"Open In Colab\"/></a>"
      ]
    },
    {
      "cell_type": "markdown",
      "metadata": {
        "id": "t_vc5DgISidQ",
        "colab_type": "text"
      },
      "source": [
        "**IPython Notebook(ipynb)**에서 코드를 실행시키는 방법:\n",
        "\n",
        "\n",
        "1.   코드 셀 왼쪽의 실행 아이콘(버튼)을 클릭\n",
        "2.   Ctrl+Enter: 현재 코드 셀을 실행시키고, 현재 셀에 그대로 커서 위치.\n",
        "3.   Shift+Enter: 현재 코드 셀을 실행시키고, 다음 코드 셀로 커서를 이동.\n",
        "\n"
      ]
    },
    {
      "cell_type": "code",
      "metadata": {
        "id": "LUve4rNyQpCp",
        "colab_type": "code",
        "colab": {
          "base_uri": "https://localhost:8080/",
          "height": 51
        },
        "outputId": "6bb4320b-2f60-4034-dc19-5568adf7d6ae"
      },
      "source": [
        "print('Hello, 파이썬!')\n",
        "# 주석(comment): 실행이 되지 않는 문장. 프로그래밍에 대한 설명을 작성.\n",
        "# #부터 그 줄(line)의 끝까기가 주석.\n",
        "print(1 + 2)  # 덧셈의 결과를 화면에 출력."
      ],
      "execution_count": 5,
      "outputs": [
        {
          "output_type": "stream",
          "text": [
            "Hello, 파이썬!\n",
            "3\n"
          ],
          "name": "stdout"
        }
      ]
    },
    {
      "cell_type": "code",
      "metadata": {
        "id": "sHzFbgBtSdot",
        "colab_type": "code",
        "colab": {}
      },
      "source": [
        ""
      ],
      "execution_count": 0,
      "outputs": []
    }
  ]
}