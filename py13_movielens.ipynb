{
  "nbformat": 4,
  "nbformat_minor": 0,
  "metadata": {
    "colab": {
      "name": "py13_movielens.ipynb",
      "provenance": [],
      "collapsed_sections": [],
      "mount_file_id": "1j0t-PIgfC_A6IUJJNOlxCGsQPd7JyIZH",
      "authorship_tag": "ABX9TyPc865nLlc0LMIM01ld3UQB",
      "include_colab_link": true
    },
    "kernelspec": {
      "name": "python3",
      "display_name": "Python 3"
    }
  },
  "cells": [
    {
      "cell_type": "markdown",
      "metadata": {
        "id": "view-in-github",
        "colab_type": "text"
      },
      "source": [
        "<a href=\"https://colab.research.google.com/github/JakeOh/202006_iw_pyda_wkd/blob/master/py13_movielens.ipynb\" target=\"_parent\"><img src=\"https://colab.research.google.com/assets/colab-badge.svg\" alt=\"Open In Colab\"/></a>"
      ]
    },
    {
      "cell_type": "code",
      "metadata": {
        "id": "d883opF_okkZ",
        "colab_type": "code",
        "colab": {
          "base_uri": "https://localhost:8080/",
          "height": 71
        },
        "outputId": "27e7e40d-4ab7-45f1-baae-46706a134c7b"
      },
      "source": [
        "import matplotlib.pyplot as plt\n",
        "import seaborn as sns\n",
        "import pandas as pd"
      ],
      "execution_count": 3,
      "outputs": [
        {
          "output_type": "stream",
          "text": [
            "/usr/local/lib/python3.6/dist-packages/statsmodels/tools/_testing.py:19: FutureWarning: pandas.util.testing is deprecated. Use the functions in the public API at pandas.testing instead.\n",
            "  import pandas.util.testing as tm\n"
          ],
          "name": "stderr"
        }
      ]
    },
    {
      "cell_type": "code",
      "metadata": {
        "id": "9ehsA4lUmkOb",
        "colab_type": "code",
        "colab": {}
      },
      "source": [
        "# 데이터 파일들이 저장된 경로\n",
        "file_path = 'drive/My Drive/Colab Notebooks/202006/movielens/'\n",
        "# movies.dat 파일의 컬럼 이름들\n",
        "col_movies = ['movie_id', 'title', 'genres']\n",
        "# ratings.dat 파일의 컬럼 이름들\n",
        "col_ratings = ['user_id', 'movie_id', 'rating', 'timestamp']\n",
        "# users.dat 파일의 컬럼 이름들\n",
        "col_users = ['user_id', 'gender', 'age', 'occupation', 'zipcode']"
      ],
      "execution_count": 5,
      "outputs": []
    },
    {
      "cell_type": "code",
      "metadata": {
        "id": "PEwyw5q5o3ft",
        "colab_type": "code",
        "colab": {
          "base_uri": "https://localhost:8080/",
          "height": 257
        },
        "outputId": "e6ca464f-a283-41b7-f5bc-a33ca9c1584f"
      },
      "source": [
        "# ratings.data 파일을 읽어서 데이터 프레임 생성\n",
        "ratings = pd.read_csv(file_path + 'ratings.dat',\n",
        "                      sep='::', header=None,\n",
        "                      names=col_ratings)\n",
        "ratings.iloc[:5]"
      ],
      "execution_count": 8,
      "outputs": [
        {
          "output_type": "stream",
          "text": [
            "/usr/local/lib/python3.6/dist-packages/ipykernel_launcher.py:4: ParserWarning: Falling back to the 'python' engine because the 'c' engine does not support regex separators (separators > 1 char and different from '\\s+' are interpreted as regex); you can avoid this warning by specifying engine='python'.\n",
            "  after removing the cwd from sys.path.\n"
          ],
          "name": "stderr"
        },
        {
          "output_type": "execute_result",
          "data": {
            "text/html": [
              "<div>\n",
              "<style scoped>\n",
              "    .dataframe tbody tr th:only-of-type {\n",
              "        vertical-align: middle;\n",
              "    }\n",
              "\n",
              "    .dataframe tbody tr th {\n",
              "        vertical-align: top;\n",
              "    }\n",
              "\n",
              "    .dataframe thead th {\n",
              "        text-align: right;\n",
              "    }\n",
              "</style>\n",
              "<table border=\"1\" class=\"dataframe\">\n",
              "  <thead>\n",
              "    <tr style=\"text-align: right;\">\n",
              "      <th></th>\n",
              "      <th>user_id</th>\n",
              "      <th>movie_id</th>\n",
              "      <th>rating</th>\n",
              "      <th>timestamp</th>\n",
              "    </tr>\n",
              "  </thead>\n",
              "  <tbody>\n",
              "    <tr>\n",
              "      <th>0</th>\n",
              "      <td>1</td>\n",
              "      <td>1193</td>\n",
              "      <td>5</td>\n",
              "      <td>978300760</td>\n",
              "    </tr>\n",
              "    <tr>\n",
              "      <th>1</th>\n",
              "      <td>1</td>\n",
              "      <td>661</td>\n",
              "      <td>3</td>\n",
              "      <td>978302109</td>\n",
              "    </tr>\n",
              "    <tr>\n",
              "      <th>2</th>\n",
              "      <td>1</td>\n",
              "      <td>914</td>\n",
              "      <td>3</td>\n",
              "      <td>978301968</td>\n",
              "    </tr>\n",
              "    <tr>\n",
              "      <th>3</th>\n",
              "      <td>1</td>\n",
              "      <td>3408</td>\n",
              "      <td>4</td>\n",
              "      <td>978300275</td>\n",
              "    </tr>\n",
              "    <tr>\n",
              "      <th>4</th>\n",
              "      <td>1</td>\n",
              "      <td>2355</td>\n",
              "      <td>5</td>\n",
              "      <td>978824291</td>\n",
              "    </tr>\n",
              "  </tbody>\n",
              "</table>\n",
              "</div>"
            ],
            "text/plain": [
              "   user_id  movie_id  rating  timestamp\n",
              "0        1      1193       5  978300760\n",
              "1        1       661       3  978302109\n",
              "2        1       914       3  978301968\n",
              "3        1      3408       4  978300275\n",
              "4        1      2355       5  978824291"
            ]
          },
          "metadata": {
            "tags": []
          },
          "execution_count": 8
        }
      ]
    },
    {
      "cell_type": "code",
      "metadata": {
        "id": "9xWgFGe1saI2",
        "colab_type": "code",
        "colab": {
          "base_uri": "https://localhost:8080/",
          "height": 257
        },
        "outputId": "d8e74cf4-4f87-4c50-8b15-8ac1aac2a3d1"
      },
      "source": [
        "# movies.dat 파일을 읽어서 데이터 프레임 생성\n",
        "movies = pd.read_csv(file_path + 'movies.dat',\n",
        "                     sep='::', header=None, names=col_movies)\n",
        "movies.iloc[:5]"
      ],
      "execution_count": 9,
      "outputs": [
        {
          "output_type": "stream",
          "text": [
            "/usr/local/lib/python3.6/dist-packages/ipykernel_launcher.py:3: ParserWarning: Falling back to the 'python' engine because the 'c' engine does not support regex separators (separators > 1 char and different from '\\s+' are interpreted as regex); you can avoid this warning by specifying engine='python'.\n",
            "  This is separate from the ipykernel package so we can avoid doing imports until\n"
          ],
          "name": "stderr"
        },
        {
          "output_type": "execute_result",
          "data": {
            "text/html": [
              "<div>\n",
              "<style scoped>\n",
              "    .dataframe tbody tr th:only-of-type {\n",
              "        vertical-align: middle;\n",
              "    }\n",
              "\n",
              "    .dataframe tbody tr th {\n",
              "        vertical-align: top;\n",
              "    }\n",
              "\n",
              "    .dataframe thead th {\n",
              "        text-align: right;\n",
              "    }\n",
              "</style>\n",
              "<table border=\"1\" class=\"dataframe\">\n",
              "  <thead>\n",
              "    <tr style=\"text-align: right;\">\n",
              "      <th></th>\n",
              "      <th>movie_id</th>\n",
              "      <th>title</th>\n",
              "      <th>genres</th>\n",
              "    </tr>\n",
              "  </thead>\n",
              "  <tbody>\n",
              "    <tr>\n",
              "      <th>0</th>\n",
              "      <td>1</td>\n",
              "      <td>Toy Story (1995)</td>\n",
              "      <td>Animation|Children's|Comedy</td>\n",
              "    </tr>\n",
              "    <tr>\n",
              "      <th>1</th>\n",
              "      <td>2</td>\n",
              "      <td>Jumanji (1995)</td>\n",
              "      <td>Adventure|Children's|Fantasy</td>\n",
              "    </tr>\n",
              "    <tr>\n",
              "      <th>2</th>\n",
              "      <td>3</td>\n",
              "      <td>Grumpier Old Men (1995)</td>\n",
              "      <td>Comedy|Romance</td>\n",
              "    </tr>\n",
              "    <tr>\n",
              "      <th>3</th>\n",
              "      <td>4</td>\n",
              "      <td>Waiting to Exhale (1995)</td>\n",
              "      <td>Comedy|Drama</td>\n",
              "    </tr>\n",
              "    <tr>\n",
              "      <th>4</th>\n",
              "      <td>5</td>\n",
              "      <td>Father of the Bride Part II (1995)</td>\n",
              "      <td>Comedy</td>\n",
              "    </tr>\n",
              "  </tbody>\n",
              "</table>\n",
              "</div>"
            ],
            "text/plain": [
              "   movie_id                               title                        genres\n",
              "0         1                    Toy Story (1995)   Animation|Children's|Comedy\n",
              "1         2                      Jumanji (1995)  Adventure|Children's|Fantasy\n",
              "2         3             Grumpier Old Men (1995)                Comedy|Romance\n",
              "3         4            Waiting to Exhale (1995)                  Comedy|Drama\n",
              "4         5  Father of the Bride Part II (1995)                        Comedy"
            ]
          },
          "metadata": {
            "tags": []
          },
          "execution_count": 9
        }
      ]
    },
    {
      "cell_type": "code",
      "metadata": {
        "id": "D5z263EbtABF",
        "colab_type": "code",
        "colab": {
          "base_uri": "https://localhost:8080/",
          "height": 257
        },
        "outputId": "1cf0fe27-dbe5-48ec-f511-55b9911eaf16"
      },
      "source": [
        "# users.dat 파일을 읽어서 데이터 프레임 생성\n",
        "users = pd.read_csv(file_path + 'users.dat',\n",
        "                    sep='::', header=None, names=col_users)\n",
        "users.iloc[:5]"
      ],
      "execution_count": 10,
      "outputs": [
        {
          "output_type": "stream",
          "text": [
            "/usr/local/lib/python3.6/dist-packages/ipykernel_launcher.py:3: ParserWarning: Falling back to the 'python' engine because the 'c' engine does not support regex separators (separators > 1 char and different from '\\s+' are interpreted as regex); you can avoid this warning by specifying engine='python'.\n",
            "  This is separate from the ipykernel package so we can avoid doing imports until\n"
          ],
          "name": "stderr"
        },
        {
          "output_type": "execute_result",
          "data": {
            "text/html": [
              "<div>\n",
              "<style scoped>\n",
              "    .dataframe tbody tr th:only-of-type {\n",
              "        vertical-align: middle;\n",
              "    }\n",
              "\n",
              "    .dataframe tbody tr th {\n",
              "        vertical-align: top;\n",
              "    }\n",
              "\n",
              "    .dataframe thead th {\n",
              "        text-align: right;\n",
              "    }\n",
              "</style>\n",
              "<table border=\"1\" class=\"dataframe\">\n",
              "  <thead>\n",
              "    <tr style=\"text-align: right;\">\n",
              "      <th></th>\n",
              "      <th>user_id</th>\n",
              "      <th>gender</th>\n",
              "      <th>age</th>\n",
              "      <th>occupation</th>\n",
              "      <th>zipcode</th>\n",
              "    </tr>\n",
              "  </thead>\n",
              "  <tbody>\n",
              "    <tr>\n",
              "      <th>0</th>\n",
              "      <td>1</td>\n",
              "      <td>F</td>\n",
              "      <td>1</td>\n",
              "      <td>10</td>\n",
              "      <td>48067</td>\n",
              "    </tr>\n",
              "    <tr>\n",
              "      <th>1</th>\n",
              "      <td>2</td>\n",
              "      <td>M</td>\n",
              "      <td>56</td>\n",
              "      <td>16</td>\n",
              "      <td>70072</td>\n",
              "    </tr>\n",
              "    <tr>\n",
              "      <th>2</th>\n",
              "      <td>3</td>\n",
              "      <td>M</td>\n",
              "      <td>25</td>\n",
              "      <td>15</td>\n",
              "      <td>55117</td>\n",
              "    </tr>\n",
              "    <tr>\n",
              "      <th>3</th>\n",
              "      <td>4</td>\n",
              "      <td>M</td>\n",
              "      <td>45</td>\n",
              "      <td>7</td>\n",
              "      <td>02460</td>\n",
              "    </tr>\n",
              "    <tr>\n",
              "      <th>4</th>\n",
              "      <td>5</td>\n",
              "      <td>M</td>\n",
              "      <td>25</td>\n",
              "      <td>20</td>\n",
              "      <td>55455</td>\n",
              "    </tr>\n",
              "  </tbody>\n",
              "</table>\n",
              "</div>"
            ],
            "text/plain": [
              "   user_id gender  age  occupation zipcode\n",
              "0        1      F    1          10   48067\n",
              "1        2      M   56          16   70072\n",
              "2        3      M   25          15   55117\n",
              "3        4      M   45           7   02460\n",
              "4        5      M   25          20   55455"
            ]
          },
          "metadata": {
            "tags": []
          },
          "execution_count": 10
        }
      ]
    },
    {
      "cell_type": "code",
      "metadata": {
        "id": "1CkKt_8rvFeV",
        "colab_type": "code",
        "colab": {
          "base_uri": "https://localhost:8080/",
          "height": 203
        },
        "outputId": "cbd98666-f439-44b5-a730-3627f9b040d2"
      },
      "source": [
        "# ratings와 movies를 movie_id를 기준으로 합침(merge)\n",
        "ratings_movies = pd.merge(ratings, movies)\n",
        "ratings_movies.iloc[:5]"
      ],
      "execution_count": 15,
      "outputs": [
        {
          "output_type": "execute_result",
          "data": {
            "text/html": [
              "<div>\n",
              "<style scoped>\n",
              "    .dataframe tbody tr th:only-of-type {\n",
              "        vertical-align: middle;\n",
              "    }\n",
              "\n",
              "    .dataframe tbody tr th {\n",
              "        vertical-align: top;\n",
              "    }\n",
              "\n",
              "    .dataframe thead th {\n",
              "        text-align: right;\n",
              "    }\n",
              "</style>\n",
              "<table border=\"1\" class=\"dataframe\">\n",
              "  <thead>\n",
              "    <tr style=\"text-align: right;\">\n",
              "      <th></th>\n",
              "      <th>user_id</th>\n",
              "      <th>movie_id</th>\n",
              "      <th>rating</th>\n",
              "      <th>timestamp</th>\n",
              "      <th>title</th>\n",
              "      <th>genres</th>\n",
              "    </tr>\n",
              "  </thead>\n",
              "  <tbody>\n",
              "    <tr>\n",
              "      <th>0</th>\n",
              "      <td>1</td>\n",
              "      <td>1193</td>\n",
              "      <td>5</td>\n",
              "      <td>978300760</td>\n",
              "      <td>One Flew Over the Cuckoo's Nest (1975)</td>\n",
              "      <td>Drama</td>\n",
              "    </tr>\n",
              "    <tr>\n",
              "      <th>1</th>\n",
              "      <td>2</td>\n",
              "      <td>1193</td>\n",
              "      <td>5</td>\n",
              "      <td>978298413</td>\n",
              "      <td>One Flew Over the Cuckoo's Nest (1975)</td>\n",
              "      <td>Drama</td>\n",
              "    </tr>\n",
              "    <tr>\n",
              "      <th>2</th>\n",
              "      <td>12</td>\n",
              "      <td>1193</td>\n",
              "      <td>4</td>\n",
              "      <td>978220179</td>\n",
              "      <td>One Flew Over the Cuckoo's Nest (1975)</td>\n",
              "      <td>Drama</td>\n",
              "    </tr>\n",
              "    <tr>\n",
              "      <th>3</th>\n",
              "      <td>15</td>\n",
              "      <td>1193</td>\n",
              "      <td>4</td>\n",
              "      <td>978199279</td>\n",
              "      <td>One Flew Over the Cuckoo's Nest (1975)</td>\n",
              "      <td>Drama</td>\n",
              "    </tr>\n",
              "    <tr>\n",
              "      <th>4</th>\n",
              "      <td>17</td>\n",
              "      <td>1193</td>\n",
              "      <td>5</td>\n",
              "      <td>978158471</td>\n",
              "      <td>One Flew Over the Cuckoo's Nest (1975)</td>\n",
              "      <td>Drama</td>\n",
              "    </tr>\n",
              "  </tbody>\n",
              "</table>\n",
              "</div>"
            ],
            "text/plain": [
              "   user_id  movie_id  ...                                   title  genres\n",
              "0        1      1193  ...  One Flew Over the Cuckoo's Nest (1975)   Drama\n",
              "1        2      1193  ...  One Flew Over the Cuckoo's Nest (1975)   Drama\n",
              "2       12      1193  ...  One Flew Over the Cuckoo's Nest (1975)   Drama\n",
              "3       15      1193  ...  One Flew Over the Cuckoo's Nest (1975)   Drama\n",
              "4       17      1193  ...  One Flew Over the Cuckoo's Nest (1975)   Drama\n",
              "\n",
              "[5 rows x 6 columns]"
            ]
          },
          "metadata": {
            "tags": []
          },
          "execution_count": 15
        }
      ]
    },
    {
      "cell_type": "code",
      "metadata": {
        "id": "dbKsqxnSwRgF",
        "colab_type": "code",
        "colab": {
          "base_uri": "https://localhost:8080/",
          "height": 446
        },
        "outputId": "25ca90d1-24f8-44fe-bfcc-d752319eda45"
      },
      "source": [
        "df = pd.merge(ratings_movies, users)\n",
        "df.iloc[:5]"
      ],
      "execution_count": 16,
      "outputs": [
        {
          "output_type": "execute_result",
          "data": {
            "text/html": [
              "<div>\n",
              "<style scoped>\n",
              "    .dataframe tbody tr th:only-of-type {\n",
              "        vertical-align: middle;\n",
              "    }\n",
              "\n",
              "    .dataframe tbody tr th {\n",
              "        vertical-align: top;\n",
              "    }\n",
              "\n",
              "    .dataframe thead th {\n",
              "        text-align: right;\n",
              "    }\n",
              "</style>\n",
              "<table border=\"1\" class=\"dataframe\">\n",
              "  <thead>\n",
              "    <tr style=\"text-align: right;\">\n",
              "      <th></th>\n",
              "      <th>user_id</th>\n",
              "      <th>movie_id</th>\n",
              "      <th>rating</th>\n",
              "      <th>timestamp</th>\n",
              "      <th>title</th>\n",
              "      <th>genres</th>\n",
              "      <th>gender</th>\n",
              "      <th>age</th>\n",
              "      <th>occupation</th>\n",
              "      <th>zipcode</th>\n",
              "    </tr>\n",
              "  </thead>\n",
              "  <tbody>\n",
              "    <tr>\n",
              "      <th>0</th>\n",
              "      <td>1</td>\n",
              "      <td>1193</td>\n",
              "      <td>5</td>\n",
              "      <td>978300760</td>\n",
              "      <td>One Flew Over the Cuckoo's Nest (1975)</td>\n",
              "      <td>Drama</td>\n",
              "      <td>F</td>\n",
              "      <td>1</td>\n",
              "      <td>10</td>\n",
              "      <td>48067</td>\n",
              "    </tr>\n",
              "    <tr>\n",
              "      <th>1</th>\n",
              "      <td>1</td>\n",
              "      <td>661</td>\n",
              "      <td>3</td>\n",
              "      <td>978302109</td>\n",
              "      <td>James and the Giant Peach (1996)</td>\n",
              "      <td>Animation|Children's|Musical</td>\n",
              "      <td>F</td>\n",
              "      <td>1</td>\n",
              "      <td>10</td>\n",
              "      <td>48067</td>\n",
              "    </tr>\n",
              "    <tr>\n",
              "      <th>2</th>\n",
              "      <td>1</td>\n",
              "      <td>914</td>\n",
              "      <td>3</td>\n",
              "      <td>978301968</td>\n",
              "      <td>My Fair Lady (1964)</td>\n",
              "      <td>Musical|Romance</td>\n",
              "      <td>F</td>\n",
              "      <td>1</td>\n",
              "      <td>10</td>\n",
              "      <td>48067</td>\n",
              "    </tr>\n",
              "    <tr>\n",
              "      <th>3</th>\n",
              "      <td>1</td>\n",
              "      <td>3408</td>\n",
              "      <td>4</td>\n",
              "      <td>978300275</td>\n",
              "      <td>Erin Brockovich (2000)</td>\n",
              "      <td>Drama</td>\n",
              "      <td>F</td>\n",
              "      <td>1</td>\n",
              "      <td>10</td>\n",
              "      <td>48067</td>\n",
              "    </tr>\n",
              "    <tr>\n",
              "      <th>4</th>\n",
              "      <td>1</td>\n",
              "      <td>2355</td>\n",
              "      <td>5</td>\n",
              "      <td>978824291</td>\n",
              "      <td>Bug's Life, A (1998)</td>\n",
              "      <td>Animation|Children's|Comedy</td>\n",
              "      <td>F</td>\n",
              "      <td>1</td>\n",
              "      <td>10</td>\n",
              "      <td>48067</td>\n",
              "    </tr>\n",
              "  </tbody>\n",
              "</table>\n",
              "</div>"
            ],
            "text/plain": [
              "   user_id  movie_id  rating  timestamp  ... gender age occupation  zipcode\n",
              "0        1      1193       5  978300760  ...      F   1         10    48067\n",
              "1        1       661       3  978302109  ...      F   1         10    48067\n",
              "2        1       914       3  978301968  ...      F   1         10    48067\n",
              "3        1      3408       4  978300275  ...      F   1         10    48067\n",
              "4        1      2355       5  978824291  ...      F   1         10    48067\n",
              "\n",
              "[5 rows x 10 columns]"
            ]
          },
          "metadata": {
            "tags": []
          },
          "execution_count": 16
        }
      ]
    },
    {
      "cell_type": "code",
      "metadata": {
        "id": "CT79I6jTwwXL",
        "colab_type": "code",
        "colab": {
          "base_uri": "https://localhost:8080/",
          "height": 34
        },
        "outputId": "1e4ad983-5290-4373-88a4-69a63371723e"
      },
      "source": [
        "df.shape"
      ],
      "execution_count": 17,
      "outputs": [
        {
          "output_type": "execute_result",
          "data": {
            "text/plain": [
              "(1000209, 10)"
            ]
          },
          "metadata": {
            "tags": []
          },
          "execution_count": 17
        }
      ]
    },
    {
      "cell_type": "code",
      "metadata": {
        "id": "CRcZ5h1gw3uk",
        "colab_type": "code",
        "colab": {
          "base_uri": "https://localhost:8080/",
          "height": 309
        },
        "outputId": "9fee01b0-a47f-4a6b-8973-b1317bb5d749"
      },
      "source": [
        "df.info()"
      ],
      "execution_count": 18,
      "outputs": [
        {
          "output_type": "stream",
          "text": [
            "<class 'pandas.core.frame.DataFrame'>\n",
            "Int64Index: 1000209 entries, 0 to 1000208\n",
            "Data columns (total 10 columns):\n",
            " #   Column      Non-Null Count    Dtype \n",
            "---  ------      --------------    ----- \n",
            " 0   user_id     1000209 non-null  int64 \n",
            " 1   movie_id    1000209 non-null  int64 \n",
            " 2   rating      1000209 non-null  int64 \n",
            " 3   timestamp   1000209 non-null  int64 \n",
            " 4   title       1000209 non-null  object\n",
            " 5   genres      1000209 non-null  object\n",
            " 6   gender      1000209 non-null  object\n",
            " 7   age         1000209 non-null  int64 \n",
            " 8   occupation  1000209 non-null  int64 \n",
            " 9   zipcode     1000209 non-null  object\n",
            "dtypes: int64(6), object(4)\n",
            "memory usage: 83.9+ MB\n"
          ],
          "name": "stdout"
        }
      ]
    },
    {
      "cell_type": "code",
      "metadata": {
        "id": "eL8ASzYvxazD",
        "colab_type": "code",
        "colab": {
          "base_uri": "https://localhost:8080/",
          "height": 110
        },
        "outputId": "268f001f-2948-4853-b352-712f3b0dc1ed"
      },
      "source": [
        "df1 = pd.DataFrame({'u_id': [1, 2],\n",
        "                    'u_name': ['ab', 'cd']})\n",
        "df1"
      ],
      "execution_count": 24,
      "outputs": [
        {
          "output_type": "execute_result",
          "data": {
            "text/html": [
              "<div>\n",
              "<style scoped>\n",
              "    .dataframe tbody tr th:only-of-type {\n",
              "        vertical-align: middle;\n",
              "    }\n",
              "\n",
              "    .dataframe tbody tr th {\n",
              "        vertical-align: top;\n",
              "    }\n",
              "\n",
              "    .dataframe thead th {\n",
              "        text-align: right;\n",
              "    }\n",
              "</style>\n",
              "<table border=\"1\" class=\"dataframe\">\n",
              "  <thead>\n",
              "    <tr style=\"text-align: right;\">\n",
              "      <th></th>\n",
              "      <th>u_id</th>\n",
              "      <th>u_name</th>\n",
              "    </tr>\n",
              "  </thead>\n",
              "  <tbody>\n",
              "    <tr>\n",
              "      <th>0</th>\n",
              "      <td>1</td>\n",
              "      <td>ab</td>\n",
              "    </tr>\n",
              "    <tr>\n",
              "      <th>1</th>\n",
              "      <td>2</td>\n",
              "      <td>cd</td>\n",
              "    </tr>\n",
              "  </tbody>\n",
              "</table>\n",
              "</div>"
            ],
            "text/plain": [
              "   u_id u_name\n",
              "0     1     ab\n",
              "1     2     cd"
            ]
          },
          "metadata": {
            "tags": []
          },
          "execution_count": 24
        }
      ]
    },
    {
      "cell_type": "code",
      "metadata": {
        "id": "5zbemkf7xqqT",
        "colab_type": "code",
        "colab": {
          "base_uri": "https://localhost:8080/",
          "height": 203
        },
        "outputId": "e32e80ef-86e1-4ac8-9203-e5d640c6394a"
      },
      "source": [
        "df2 = pd.DataFrame({'u_id': [1, 1, 2, 2, 3],\n",
        "                    'rating': [5, 4, 5, 5, 3]})\n",
        "df2"
      ],
      "execution_count": 25,
      "outputs": [
        {
          "output_type": "execute_result",
          "data": {
            "text/html": [
              "<div>\n",
              "<style scoped>\n",
              "    .dataframe tbody tr th:only-of-type {\n",
              "        vertical-align: middle;\n",
              "    }\n",
              "\n",
              "    .dataframe tbody tr th {\n",
              "        vertical-align: top;\n",
              "    }\n",
              "\n",
              "    .dataframe thead th {\n",
              "        text-align: right;\n",
              "    }\n",
              "</style>\n",
              "<table border=\"1\" class=\"dataframe\">\n",
              "  <thead>\n",
              "    <tr style=\"text-align: right;\">\n",
              "      <th></th>\n",
              "      <th>u_id</th>\n",
              "      <th>rating</th>\n",
              "    </tr>\n",
              "  </thead>\n",
              "  <tbody>\n",
              "    <tr>\n",
              "      <th>0</th>\n",
              "      <td>1</td>\n",
              "      <td>5</td>\n",
              "    </tr>\n",
              "    <tr>\n",
              "      <th>1</th>\n",
              "      <td>1</td>\n",
              "      <td>4</td>\n",
              "    </tr>\n",
              "    <tr>\n",
              "      <th>2</th>\n",
              "      <td>2</td>\n",
              "      <td>5</td>\n",
              "    </tr>\n",
              "    <tr>\n",
              "      <th>3</th>\n",
              "      <td>2</td>\n",
              "      <td>5</td>\n",
              "    </tr>\n",
              "    <tr>\n",
              "      <th>4</th>\n",
              "      <td>3</td>\n",
              "      <td>3</td>\n",
              "    </tr>\n",
              "  </tbody>\n",
              "</table>\n",
              "</div>"
            ],
            "text/plain": [
              "   u_id  rating\n",
              "0     1       5\n",
              "1     1       4\n",
              "2     2       5\n",
              "3     2       5\n",
              "4     3       3"
            ]
          },
          "metadata": {
            "tags": []
          },
          "execution_count": 25
        }
      ]
    },
    {
      "cell_type": "code",
      "metadata": {
        "id": "ieWjFGq9x8LT",
        "colab_type": "code",
        "colab": {
          "base_uri": "https://localhost:8080/",
          "height": 203
        },
        "outputId": "cbecc387-30b2-466c-a28f-8e59e4880d24"
      },
      "source": [
        "pd.merge(df2, df1, how='left')"
      ],
      "execution_count": 32,
      "outputs": [
        {
          "output_type": "execute_result",
          "data": {
            "text/html": [
              "<div>\n",
              "<style scoped>\n",
              "    .dataframe tbody tr th:only-of-type {\n",
              "        vertical-align: middle;\n",
              "    }\n",
              "\n",
              "    .dataframe tbody tr th {\n",
              "        vertical-align: top;\n",
              "    }\n",
              "\n",
              "    .dataframe thead th {\n",
              "        text-align: right;\n",
              "    }\n",
              "</style>\n",
              "<table border=\"1\" class=\"dataframe\">\n",
              "  <thead>\n",
              "    <tr style=\"text-align: right;\">\n",
              "      <th></th>\n",
              "      <th>u_id</th>\n",
              "      <th>rating</th>\n",
              "      <th>u_name</th>\n",
              "    </tr>\n",
              "  </thead>\n",
              "  <tbody>\n",
              "    <tr>\n",
              "      <th>0</th>\n",
              "      <td>1</td>\n",
              "      <td>5</td>\n",
              "      <td>ab</td>\n",
              "    </tr>\n",
              "    <tr>\n",
              "      <th>1</th>\n",
              "      <td>1</td>\n",
              "      <td>4</td>\n",
              "      <td>ab</td>\n",
              "    </tr>\n",
              "    <tr>\n",
              "      <th>2</th>\n",
              "      <td>2</td>\n",
              "      <td>5</td>\n",
              "      <td>cd</td>\n",
              "    </tr>\n",
              "    <tr>\n",
              "      <th>3</th>\n",
              "      <td>2</td>\n",
              "      <td>5</td>\n",
              "      <td>cd</td>\n",
              "    </tr>\n",
              "    <tr>\n",
              "      <th>4</th>\n",
              "      <td>3</td>\n",
              "      <td>3</td>\n",
              "      <td>NaN</td>\n",
              "    </tr>\n",
              "  </tbody>\n",
              "</table>\n",
              "</div>"
            ],
            "text/plain": [
              "   u_id  rating u_name\n",
              "0     1       5     ab\n",
              "1     1       4     ab\n",
              "2     2       5     cd\n",
              "3     2       5     cd\n",
              "4     3       3    NaN"
            ]
          },
          "metadata": {
            "tags": []
          },
          "execution_count": 32
        }
      ]
    },
    {
      "cell_type": "code",
      "metadata": {
        "id": "CzEuId7f0oDb",
        "colab_type": "code",
        "colab": {
          "base_uri": "https://localhost:8080/",
          "height": 241
        },
        "outputId": "768fe30f-1c66-4b6c-bea9-053d3dffd64f"
      },
      "source": [
        "# 성별 영화 선호도\n",
        "df.groupby(['title', 'gender'])['rating'].mean()"
      ],
      "execution_count": 35,
      "outputs": [
        {
          "output_type": "execute_result",
          "data": {
            "text/plain": [
              "title                                       gender\n",
              "$1,000,000 Duck (1971)                      F         3.375000\n",
              "                                            M         2.761905\n",
              "'Night Mother (1986)                        F         3.388889\n",
              "                                            M         3.352941\n",
              "'Til There Was You (1997)                   F         2.675676\n",
              "                                                        ...   \n",
              "Zero Kelvin (Kj�rlighetens kj�tere) (1995)  M         3.500000\n",
              "Zeus and Roxanne (1997)                     F         2.777778\n",
              "                                            M         2.357143\n",
              "eXistenZ (1999)                             F         3.098592\n",
              "                                            M         3.289086\n",
              "Name: rating, Length: 7152, dtype: float64"
            ]
          },
          "metadata": {
            "tags": []
          },
          "execution_count": 35
        }
      ]
    },
    {
      "cell_type": "code",
      "metadata": {
        "id": "PWER22sT2Rxh",
        "colab_type": "code",
        "colab": {
          "base_uri": "https://localhost:8080/",
          "height": 447
        },
        "outputId": "f6f6844e-5ee6-4344-a510-d0f98d079911"
      },
      "source": [
        "mean_ratings = df.pivot_table(values='rating',\n",
        "                              index='title',\n",
        "                              columns='gender',\n",
        "                              aggfunc='mean')\n",
        "mean_ratings"
      ],
      "execution_count": 38,
      "outputs": [
        {
          "output_type": "execute_result",
          "data": {
            "text/html": [
              "<div>\n",
              "<style scoped>\n",
              "    .dataframe tbody tr th:only-of-type {\n",
              "        vertical-align: middle;\n",
              "    }\n",
              "\n",
              "    .dataframe tbody tr th {\n",
              "        vertical-align: top;\n",
              "    }\n",
              "\n",
              "    .dataframe thead th {\n",
              "        text-align: right;\n",
              "    }\n",
              "</style>\n",
              "<table border=\"1\" class=\"dataframe\">\n",
              "  <thead>\n",
              "    <tr style=\"text-align: right;\">\n",
              "      <th>gender</th>\n",
              "      <th>F</th>\n",
              "      <th>M</th>\n",
              "    </tr>\n",
              "    <tr>\n",
              "      <th>title</th>\n",
              "      <th></th>\n",
              "      <th></th>\n",
              "    </tr>\n",
              "  </thead>\n",
              "  <tbody>\n",
              "    <tr>\n",
              "      <th>$1,000,000 Duck (1971)</th>\n",
              "      <td>3.375000</td>\n",
              "      <td>2.761905</td>\n",
              "    </tr>\n",
              "    <tr>\n",
              "      <th>'Night Mother (1986)</th>\n",
              "      <td>3.388889</td>\n",
              "      <td>3.352941</td>\n",
              "    </tr>\n",
              "    <tr>\n",
              "      <th>'Til There Was You (1997)</th>\n",
              "      <td>2.675676</td>\n",
              "      <td>2.733333</td>\n",
              "    </tr>\n",
              "    <tr>\n",
              "      <th>'burbs, The (1989)</th>\n",
              "      <td>2.793478</td>\n",
              "      <td>2.962085</td>\n",
              "    </tr>\n",
              "    <tr>\n",
              "      <th>...And Justice for All (1979)</th>\n",
              "      <td>3.828571</td>\n",
              "      <td>3.689024</td>\n",
              "    </tr>\n",
              "    <tr>\n",
              "      <th>...</th>\n",
              "      <td>...</td>\n",
              "      <td>...</td>\n",
              "    </tr>\n",
              "    <tr>\n",
              "      <th>Zed &amp; Two Noughts, A (1985)</th>\n",
              "      <td>3.500000</td>\n",
              "      <td>3.380952</td>\n",
              "    </tr>\n",
              "    <tr>\n",
              "      <th>Zero Effect (1998)</th>\n",
              "      <td>3.864407</td>\n",
              "      <td>3.723140</td>\n",
              "    </tr>\n",
              "    <tr>\n",
              "      <th>Zero Kelvin (Kj�rlighetens kj�tere) (1995)</th>\n",
              "      <td>NaN</td>\n",
              "      <td>3.500000</td>\n",
              "    </tr>\n",
              "    <tr>\n",
              "      <th>Zeus and Roxanne (1997)</th>\n",
              "      <td>2.777778</td>\n",
              "      <td>2.357143</td>\n",
              "    </tr>\n",
              "    <tr>\n",
              "      <th>eXistenZ (1999)</th>\n",
              "      <td>3.098592</td>\n",
              "      <td>3.289086</td>\n",
              "    </tr>\n",
              "  </tbody>\n",
              "</table>\n",
              "<p>3706 rows × 2 columns</p>\n",
              "</div>"
            ],
            "text/plain": [
              "gender                                             F         M\n",
              "title                                                         \n",
              "$1,000,000 Duck (1971)                      3.375000  2.761905\n",
              "'Night Mother (1986)                        3.388889  3.352941\n",
              "'Til There Was You (1997)                   2.675676  2.733333\n",
              "'burbs, The (1989)                          2.793478  2.962085\n",
              "...And Justice for All (1979)               3.828571  3.689024\n",
              "...                                              ...       ...\n",
              "Zed & Two Noughts, A (1985)                 3.500000  3.380952\n",
              "Zero Effect (1998)                          3.864407  3.723140\n",
              "Zero Kelvin (Kj�rlighetens kj�tere) (1995)       NaN  3.500000\n",
              "Zeus and Roxanne (1997)                     2.777778  2.357143\n",
              "eXistenZ (1999)                             3.098592  3.289086\n",
              "\n",
              "[3706 rows x 2 columns]"
            ]
          },
          "metadata": {
            "tags": []
          },
          "execution_count": 38
        }
      ]
    },
    {
      "cell_type": "code",
      "metadata": {
        "id": "tuRUbp0F37WC",
        "colab_type": "code",
        "colab": {
          "base_uri": "https://localhost:8080/",
          "height": 695
        },
        "outputId": "6d58e79b-2282-4825-d379-ba4dd82222d6"
      },
      "source": [
        "# 여성들이 높은 평점을 준 영화들 20위\n",
        "mean_ratings.sort_values('F', ascending=False).iloc[:20]"
      ],
      "execution_count": 42,
      "outputs": [
        {
          "output_type": "execute_result",
          "data": {
            "text/html": [
              "<div>\n",
              "<style scoped>\n",
              "    .dataframe tbody tr th:only-of-type {\n",
              "        vertical-align: middle;\n",
              "    }\n",
              "\n",
              "    .dataframe tbody tr th {\n",
              "        vertical-align: top;\n",
              "    }\n",
              "\n",
              "    .dataframe thead th {\n",
              "        text-align: right;\n",
              "    }\n",
              "</style>\n",
              "<table border=\"1\" class=\"dataframe\">\n",
              "  <thead>\n",
              "    <tr style=\"text-align: right;\">\n",
              "      <th>gender</th>\n",
              "      <th>F</th>\n",
              "      <th>M</th>\n",
              "    </tr>\n",
              "    <tr>\n",
              "      <th>title</th>\n",
              "      <th></th>\n",
              "      <th></th>\n",
              "    </tr>\n",
              "  </thead>\n",
              "  <tbody>\n",
              "    <tr>\n",
              "      <th>Clean Slate (Coup de Torchon) (1981)</th>\n",
              "      <td>5.0</td>\n",
              "      <td>3.857143</td>\n",
              "    </tr>\n",
              "    <tr>\n",
              "      <th>Ballad of Narayama, The (Narayama Bushiko) (1958)</th>\n",
              "      <td>5.0</td>\n",
              "      <td>3.428571</td>\n",
              "    </tr>\n",
              "    <tr>\n",
              "      <th>Raw Deal (1948)</th>\n",
              "      <td>5.0</td>\n",
              "      <td>3.307692</td>\n",
              "    </tr>\n",
              "    <tr>\n",
              "      <th>Bittersweet Motel (2000)</th>\n",
              "      <td>5.0</td>\n",
              "      <td>NaN</td>\n",
              "    </tr>\n",
              "    <tr>\n",
              "      <th>Skipped Parts (2000)</th>\n",
              "      <td>5.0</td>\n",
              "      <td>4.000000</td>\n",
              "    </tr>\n",
              "    <tr>\n",
              "      <th>Lamerica (1994)</th>\n",
              "      <td>5.0</td>\n",
              "      <td>4.666667</td>\n",
              "    </tr>\n",
              "    <tr>\n",
              "      <th>Gambler, The (A J�t�kos) (1997)</th>\n",
              "      <td>5.0</td>\n",
              "      <td>3.166667</td>\n",
              "    </tr>\n",
              "    <tr>\n",
              "      <th>Brother, Can You Spare a Dime? (1975)</th>\n",
              "      <td>5.0</td>\n",
              "      <td>3.642857</td>\n",
              "    </tr>\n",
              "    <tr>\n",
              "      <th>Ayn Rand: A Sense of Life (1997)</th>\n",
              "      <td>5.0</td>\n",
              "      <td>4.000000</td>\n",
              "    </tr>\n",
              "    <tr>\n",
              "      <th>24 7: Twenty Four Seven (1997)</th>\n",
              "      <td>5.0</td>\n",
              "      <td>3.750000</td>\n",
              "    </tr>\n",
              "    <tr>\n",
              "      <th>Twice Upon a Yesterday (1998)</th>\n",
              "      <td>5.0</td>\n",
              "      <td>3.222222</td>\n",
              "    </tr>\n",
              "    <tr>\n",
              "      <th>Woman of Paris, A (1923)</th>\n",
              "      <td>5.0</td>\n",
              "      <td>2.428571</td>\n",
              "    </tr>\n",
              "    <tr>\n",
              "      <th>I Am Cuba (Soy Cuba/Ya Kuba) (1964)</th>\n",
              "      <td>5.0</td>\n",
              "      <td>4.750000</td>\n",
              "    </tr>\n",
              "    <tr>\n",
              "      <th>Gate of Heavenly Peace, The (1995)</th>\n",
              "      <td>5.0</td>\n",
              "      <td>5.000000</td>\n",
              "    </tr>\n",
              "    <tr>\n",
              "      <th>For the Moment (1994)</th>\n",
              "      <td>5.0</td>\n",
              "      <td>3.000000</td>\n",
              "    </tr>\n",
              "    <tr>\n",
              "      <th>Country Life (1994)</th>\n",
              "      <td>5.0</td>\n",
              "      <td>2.000000</td>\n",
              "    </tr>\n",
              "    <tr>\n",
              "      <th>Prisoner of the Mountains (Kavkazsky Plennik) (1996)</th>\n",
              "      <td>5.0</td>\n",
              "      <td>3.692308</td>\n",
              "    </tr>\n",
              "    <tr>\n",
              "      <th>Other Side of Sunday, The (S�ndagsengler) (1996)</th>\n",
              "      <td>5.0</td>\n",
              "      <td>2.928571</td>\n",
              "    </tr>\n",
              "    <tr>\n",
              "      <th>Saltmen of Tibet, The (1997)</th>\n",
              "      <td>5.0</td>\n",
              "      <td>3.571429</td>\n",
              "    </tr>\n",
              "    <tr>\n",
              "      <th>Big Combo, The (1955)</th>\n",
              "      <td>5.0</td>\n",
              "      <td>3.600000</td>\n",
              "    </tr>\n",
              "  </tbody>\n",
              "</table>\n",
              "</div>"
            ],
            "text/plain": [
              "gender                                                F         M\n",
              "title                                                            \n",
              "Clean Slate (Coup de Torchon) (1981)                5.0  3.857143\n",
              "Ballad of Narayama, The (Narayama Bushiko) (1958)   5.0  3.428571\n",
              "Raw Deal (1948)                                     5.0  3.307692\n",
              "Bittersweet Motel (2000)                            5.0       NaN\n",
              "Skipped Parts (2000)                                5.0  4.000000\n",
              "Lamerica (1994)                                     5.0  4.666667\n",
              "Gambler, The (A J�t�kos) (1997)                     5.0  3.166667\n",
              "Brother, Can You Spare a Dime? (1975)               5.0  3.642857\n",
              "Ayn Rand: A Sense of Life (1997)                    5.0  4.000000\n",
              "24 7: Twenty Four Seven (1997)                      5.0  3.750000\n",
              "Twice Upon a Yesterday (1998)                       5.0  3.222222\n",
              "Woman of Paris, A (1923)                            5.0  2.428571\n",
              "I Am Cuba (Soy Cuba/Ya Kuba) (1964)                 5.0  4.750000\n",
              "Gate of Heavenly Peace, The (1995)                  5.0  5.000000\n",
              "For the Moment (1994)                               5.0  3.000000\n",
              "Country Life (1994)                                 5.0  2.000000\n",
              "Prisoner of the Mountains (Kavkazsky Plennik) (...  5.0  3.692308\n",
              "Other Side of Sunday, The (S�ndagsengler) (1996)    5.0  2.928571\n",
              "Saltmen of Tibet, The (1997)                        5.0  3.571429\n",
              "Big Combo, The (1955)                               5.0  3.600000"
            ]
          },
          "metadata": {
            "tags": []
          },
          "execution_count": 42
        }
      ]
    },
    {
      "cell_type": "code",
      "metadata": {
        "id": "lgbdNHiz5nT5",
        "colab_type": "code",
        "colab": {
          "base_uri": "https://localhost:8080/",
          "height": 223
        },
        "outputId": "01a62c56-dfb4-4ffa-cefe-6677d3786081"
      },
      "source": [
        "# df에서 영화 제목들의 빈도수\n",
        "df['title'].value_counts()"
      ],
      "execution_count": 43,
      "outputs": [
        {
          "output_type": "execute_result",
          "data": {
            "text/plain": [
              "American Beauty (1999)                                   3428\n",
              "Star Wars: Episode IV - A New Hope (1977)                2991\n",
              "Star Wars: Episode V - The Empire Strikes Back (1980)    2990\n",
              "Star Wars: Episode VI - Return of the Jedi (1983)        2883\n",
              "Jurassic Park (1993)                                     2672\n",
              "                                                         ... \n",
              "Low Life, The (1994)                                        1\n",
              "Nueba Yol (1995)                                            1\n",
              "Windows (1980)                                              1\n",
              "Billy's Holiday (1995)                                      1\n",
              "Outside Ozona (1998)                                        1\n",
              "Name: title, Length: 3706, dtype: int64"
            ]
          },
          "metadata": {
            "tags": []
          },
          "execution_count": 43
        }
      ]
    },
    {
      "cell_type": "code",
      "metadata": {
        "id": "zaAbnxla6M7C",
        "colab_type": "code",
        "colab": {
          "base_uri": "https://localhost:8080/",
          "height": 172
        },
        "outputId": "8d948c54-5fa5-4182-bc31-cc8700e1e016"
      },
      "source": [
        "df['title'].value_counts().describe()"
      ],
      "execution_count": 44,
      "outputs": [
        {
          "output_type": "execute_result",
          "data": {
            "text/plain": [
              "count    3706.000000\n",
              "mean      269.889099\n",
              "std       384.047838\n",
              "min         1.000000\n",
              "25%        33.000000\n",
              "50%       123.500000\n",
              "75%       350.000000\n",
              "max      3428.000000\n",
              "Name: title, dtype: float64"
            ]
          },
          "metadata": {
            "tags": []
          },
          "execution_count": 44
        }
      ]
    },
    {
      "cell_type": "code",
      "metadata": {
        "id": "ztgdtk7R6heI",
        "colab_type": "code",
        "colab": {}
      },
      "source": [
        "# 250건 이상의 평점을 받은 영화들 중에서 남/녀 선호도 차이\n",
        "title_count = df['title'].value_counts()\n",
        "active_titles = title_count[title_count >= 250]  # boolean indexing\n",
        "active_titles = active_titles.index"
      ],
      "execution_count": 53,
      "outputs": []
    },
    {
      "cell_type": "code",
      "metadata": {
        "id": "6QBQGHfu9LtJ",
        "colab_type": "code",
        "colab": {
          "base_uri": "https://localhost:8080/",
          "height": 665
        },
        "outputId": "69fdb979-322a-41c8-8dc8-f5b4fd8b1451"
      },
      "source": [
        "mean_ratings.loc[active_titles, :].sort_values('F', ascending=False).iloc[:20]"
      ],
      "execution_count": 56,
      "outputs": [
        {
          "output_type": "execute_result",
          "data": {
            "text/html": [
              "<div>\n",
              "<style scoped>\n",
              "    .dataframe tbody tr th:only-of-type {\n",
              "        vertical-align: middle;\n",
              "    }\n",
              "\n",
              "    .dataframe tbody tr th {\n",
              "        vertical-align: top;\n",
              "    }\n",
              "\n",
              "    .dataframe thead th {\n",
              "        text-align: right;\n",
              "    }\n",
              "</style>\n",
              "<table border=\"1\" class=\"dataframe\">\n",
              "  <thead>\n",
              "    <tr style=\"text-align: right;\">\n",
              "      <th>gender</th>\n",
              "      <th>F</th>\n",
              "      <th>M</th>\n",
              "    </tr>\n",
              "  </thead>\n",
              "  <tbody>\n",
              "    <tr>\n",
              "      <th>Close Shave, A (1995)</th>\n",
              "      <td>4.644444</td>\n",
              "      <td>4.473795</td>\n",
              "    </tr>\n",
              "    <tr>\n",
              "      <th>Wrong Trousers, The (1993)</th>\n",
              "      <td>4.588235</td>\n",
              "      <td>4.478261</td>\n",
              "    </tr>\n",
              "    <tr>\n",
              "      <th>Sunset Blvd. (a.k.a. Sunset Boulevard) (1950)</th>\n",
              "      <td>4.572650</td>\n",
              "      <td>4.464589</td>\n",
              "    </tr>\n",
              "    <tr>\n",
              "      <th>Wallace &amp; Gromit: The Best of Aardman Animation (1996)</th>\n",
              "      <td>4.563107</td>\n",
              "      <td>4.385075</td>\n",
              "    </tr>\n",
              "    <tr>\n",
              "      <th>Schindler's List (1993)</th>\n",
              "      <td>4.562602</td>\n",
              "      <td>4.491415</td>\n",
              "    </tr>\n",
              "    <tr>\n",
              "      <th>Shawshank Redemption, The (1994)</th>\n",
              "      <td>4.539075</td>\n",
              "      <td>4.560625</td>\n",
              "    </tr>\n",
              "    <tr>\n",
              "      <th>Grand Day Out, A (1992)</th>\n",
              "      <td>4.537879</td>\n",
              "      <td>4.293255</td>\n",
              "    </tr>\n",
              "    <tr>\n",
              "      <th>To Kill a Mockingbird (1962)</th>\n",
              "      <td>4.536667</td>\n",
              "      <td>4.372611</td>\n",
              "    </tr>\n",
              "    <tr>\n",
              "      <th>Creature Comforts (1990)</th>\n",
              "      <td>4.513889</td>\n",
              "      <td>4.272277</td>\n",
              "    </tr>\n",
              "    <tr>\n",
              "      <th>Usual Suspects, The (1995)</th>\n",
              "      <td>4.513317</td>\n",
              "      <td>4.518248</td>\n",
              "    </tr>\n",
              "    <tr>\n",
              "      <th>It Happened One Night (1934)</th>\n",
              "      <td>4.500000</td>\n",
              "      <td>4.163934</td>\n",
              "    </tr>\n",
              "    <tr>\n",
              "      <th>Rear Window (1954)</th>\n",
              "      <td>4.484536</td>\n",
              "      <td>4.472991</td>\n",
              "    </tr>\n",
              "    <tr>\n",
              "      <th>Seven Samurai (The Magnificent Seven) (Shichinin no samurai) (1954)</th>\n",
              "      <td>4.481132</td>\n",
              "      <td>4.576628</td>\n",
              "    </tr>\n",
              "    <tr>\n",
              "      <th>Sixth Sense, The (1999)</th>\n",
              "      <td>4.477410</td>\n",
              "      <td>4.379944</td>\n",
              "    </tr>\n",
              "    <tr>\n",
              "      <th>Third Man, The (1949)</th>\n",
              "      <td>4.466019</td>\n",
              "      <td>4.448276</td>\n",
              "    </tr>\n",
              "    <tr>\n",
              "      <th>Some Like It Hot (1959)</th>\n",
              "      <td>4.462745</td>\n",
              "      <td>4.228769</td>\n",
              "    </tr>\n",
              "    <tr>\n",
              "      <th>City Lights (1931)</th>\n",
              "      <td>4.452055</td>\n",
              "      <td>4.363636</td>\n",
              "    </tr>\n",
              "    <tr>\n",
              "      <th>Notorious (1946)</th>\n",
              "      <td>4.448718</td>\n",
              "      <td>4.211073</td>\n",
              "    </tr>\n",
              "    <tr>\n",
              "      <th>Philadelphia Story, The (1940)</th>\n",
              "      <td>4.446809</td>\n",
              "      <td>4.201729</td>\n",
              "    </tr>\n",
              "    <tr>\n",
              "      <th>Life Is Beautiful (La Vita � bella) (1997)</th>\n",
              "      <td>4.422343</td>\n",
              "      <td>4.286624</td>\n",
              "    </tr>\n",
              "  </tbody>\n",
              "</table>\n",
              "</div>"
            ],
            "text/plain": [
              "gender                                                     F         M\n",
              "Close Shave, A (1995)                               4.644444  4.473795\n",
              "Wrong Trousers, The (1993)                          4.588235  4.478261\n",
              "Sunset Blvd. (a.k.a. Sunset Boulevard) (1950)       4.572650  4.464589\n",
              "Wallace & Gromit: The Best of Aardman Animation...  4.563107  4.385075\n",
              "Schindler's List (1993)                             4.562602  4.491415\n",
              "Shawshank Redemption, The (1994)                    4.539075  4.560625\n",
              "Grand Day Out, A (1992)                             4.537879  4.293255\n",
              "To Kill a Mockingbird (1962)                        4.536667  4.372611\n",
              "Creature Comforts (1990)                            4.513889  4.272277\n",
              "Usual Suspects, The (1995)                          4.513317  4.518248\n",
              "It Happened One Night (1934)                        4.500000  4.163934\n",
              "Rear Window (1954)                                  4.484536  4.472991\n",
              "Seven Samurai (The Magnificent Seven) (Shichini...  4.481132  4.576628\n",
              "Sixth Sense, The (1999)                             4.477410  4.379944\n",
              "Third Man, The (1949)                               4.466019  4.448276\n",
              "Some Like It Hot (1959)                             4.462745  4.228769\n",
              "City Lights (1931)                                  4.452055  4.363636\n",
              "Notorious (1946)                                    4.448718  4.211073\n",
              "Philadelphia Story, The (1940)                      4.446809  4.201729\n",
              "Life Is Beautiful (La Vita � bella) (1997)          4.422343  4.286624"
            ]
          },
          "metadata": {
            "tags": []
          },
          "execution_count": 56
        }
      ]
    }
  ]
}