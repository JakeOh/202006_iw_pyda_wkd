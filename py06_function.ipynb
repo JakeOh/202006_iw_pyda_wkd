{
  "nbformat": 4,
  "nbformat_minor": 0,
  "metadata": {
    "colab": {
      "name": "py06_function.ipynb",
      "provenance": [],
      "collapsed_sections": [],
      "authorship_tag": "ABX9TyNPBu3tZi0wQ5/NOVdN1zQQ",
      "include_colab_link": true
    },
    "kernelspec": {
      "name": "python3",
      "display_name": "Python 3"
    }
  },
  "cells": [
    {
      "cell_type": "markdown",
      "metadata": {
        "id": "view-in-github",
        "colab_type": "text"
      },
      "source": [
        "<a href=\"https://colab.research.google.com/github/JakeOh/202006_iw_pyda_wkd/blob/master/py06_function.ipynb\" target=\"_parent\"><img src=\"https://colab.research.google.com/assets/colab-badge.svg\" alt=\"Open In Colab\"/></a>"
      ]
    },
    {
      "cell_type": "code",
      "metadata": {
        "id": "YcC41tRUSSh5",
        "colab_type": "code",
        "colab": {
          "base_uri": "https://localhost:8080/",
          "height": 34
        },
        "outputId": "9e974666-0c16-4734-9018-1bafa2e05325"
      },
      "source": [
        "print('안녕하세요')\n",
        "# print(): () 안의 내용을 화면 출력하는 기능"
      ],
      "execution_count": 1,
      "outputs": [
        {
          "output_type": "stream",
          "text": [
            "안녕하세요\n"
          ],
          "name": "stdout"
        }
      ]
    },
    {
      "cell_type": "code",
      "metadata": {
        "id": "NnUKjA94SpVt",
        "colab_type": "code",
        "colab": {
          "base_uri": "https://localhost:8080/",
          "height": 34
        },
        "outputId": "9f91e74e-5c5f-4fa8-9d34-bc97e09a6e18"
      },
      "source": [
        "numbers = [1, 3, 5, 7]\n",
        "length = len(numbers)\n",
        "# len(obj): obj의 길이(length, 원소 개수)를 계산해 반환해 주는 기능\n",
        "length"
      ],
      "execution_count": 6,
      "outputs": [
        {
          "output_type": "stream",
          "text": [
            "4\n"
          ],
          "name": "stdout"
        }
      ]
    },
    {
      "cell_type": "code",
      "metadata": {
        "id": "f8-Tk1FlTksU",
        "colab_type": "code",
        "colab": {
          "base_uri": "https://localhost:8080/",
          "height": 34
        },
        "outputId": "0bd10494-858f-4ea5-f8fc-6c14a9bbcbfd"
      },
      "source": [
        "s = sum(numbers)  # 함수 호출(call, invoke)\n",
        "s"
      ],
      "execution_count": 7,
      "outputs": [
        {
          "output_type": "execute_result",
          "data": {
            "text/plain": [
              "16"
            ]
          },
          "metadata": {
            "tags": []
          },
          "execution_count": 7
        }
      ]
    },
    {
      "cell_type": "code",
      "metadata": {
        "id": "jdc_SdRJU2t9",
        "colab_type": "code",
        "colab": {}
      },
      "source": [
        "# 함수(function): 자주 사용되는 기능들을 작성한 코드 블록\n",
        "# 함수를 정의하고, 필요한 곳에서 함수를 불러서(호출해서) 사용"
      ],
      "execution_count": 0,
      "outputs": []
    },
    {
      "cell_type": "code",
      "metadata": {
        "id": "Xx4B2tFwVt2t",
        "colab_type": "code",
        "colab": {
          "base_uri": "https://localhost:8080/",
          "height": 34
        },
        "outputId": "c4debc6d-6461-407c-ab46-cab3e24f0a2e"
      },
      "source": [
        "id_numbers = id(numbers)\n",
        "id_numbers"
      ],
      "execution_count": 8,
      "outputs": [
        {
          "output_type": "execute_result",
          "data": {
            "text/plain": [
              "140594425275784"
            ]
          },
          "metadata": {
            "tags": []
          },
          "execution_count": 8
        }
      ]
    },
    {
      "cell_type": "code",
      "metadata": {
        "id": "Ieh9z0OWWMe0",
        "colab_type": "code",
        "colab": {}
      },
      "source": [
        "# 함수 정의\n",
        "def sum_of_list(num_list):\n",
        "    \"\"\"\n",
        "    숫자들의 리스트(num_list)를 전달받아서, 리스트의 모든 원소들의 \n",
        "    합(summation)을 리턴(return, 반환)하는 함수.\n",
        "\n",
        "    :param num_list: 숫자들의 리스트\n",
        "    :return: 리스트 안의 모든 원소들의 합\n",
        "    \"\"\"\n",
        "    sum_ = 0\n",
        "    for n in num_list:\n",
        "        sum_ += n\n",
        "    return sum_\n"
      ],
      "execution_count": 0,
      "outputs": []
    },
    {
      "cell_type": "code",
      "metadata": {
        "id": "8e0eOtF7Y641",
        "colab_type": "code",
        "colab": {
          "base_uri": "https://localhost:8080/",
          "height": 34
        },
        "outputId": "9d58907a-607d-40cf-c672-20535650e030"
      },
      "source": [
        "int_array = [1, 2, 3, 4, 5]\n",
        "s = sum_of_list(int_array)\n",
        "s"
      ],
      "execution_count": 10,
      "outputs": [
        {
          "output_type": "execute_result",
          "data": {
            "text/plain": [
              "15"
            ]
          },
          "metadata": {
            "tags": []
          },
          "execution_count": 10
        }
      ]
    },
    {
      "cell_type": "code",
      "metadata": {
        "id": "6joh4zsIbVOl",
        "colab_type": "code",
        "colab": {}
      },
      "source": [
        "# 함수 - 기능\n",
        "# argument - 함수를 호출하는 곳에서 함수에게 전달하는 값.\n",
        "# parameter - 함수를 정의하는 곳에서, \n",
        "#   전달받은 값을 저장하기 위해 선언하는 변수.\n",
        "# return(반환) 값 - 함수가 모든 기능을 다 한 후, 함수를 호출한 곳으로\n",
        "#   되돌려 주는 값."
      ],
      "execution_count": 0,
      "outputs": []
    },
    {
      "cell_type": "code",
      "metadata": {
        "id": "Y6G75Mcecbf9",
        "colab_type": "code",
        "colab": {}
      },
      "source": [
        "# 숫자들의 리스트를 전달받아서, 그 숫자들의 평균을 리턴하는 함수\n",
        "def average(num_list):\n",
        "    n = len(num_list)  # 리스트의 원소의 개수\n",
        "    s = sum_of_list(num_list)  # 리스트의 모든 원소들의 합\n",
        "    return s/n"
      ],
      "execution_count": 0,
      "outputs": []
    },
    {
      "cell_type": "code",
      "metadata": {
        "id": "jWeMZrqjdYTE",
        "colab_type": "code",
        "colab": {
          "base_uri": "https://localhost:8080/",
          "height": 34
        },
        "outputId": "0aeca610-d952-44ef-dce3-26d040cad11a"
      },
      "source": [
        "avg = average([1, 2, 3, 4, 6])\n",
        "avg"
      ],
      "execution_count": 18,
      "outputs": [
        {
          "output_type": "execute_result",
          "data": {
            "text/plain": [
              "3.2"
            ]
          },
          "metadata": {
            "tags": []
          },
          "execution_count": 18
        }
      ]
    }
  ]
}