{
  "nbformat": 4,
  "nbformat_minor": 0,
  "metadata": {
    "colab": {
      "name": "py08_numpy.ipynb",
      "provenance": [],
      "collapsed_sections": [],
      "authorship_tag": "ABX9TyMA8Cs1RTqWNOuA9gB2Xpa1",
      "include_colab_link": true
    },
    "kernelspec": {
      "name": "python3",
      "display_name": "Python 3"
    }
  },
  "cells": [
    {
      "cell_type": "markdown",
      "metadata": {
        "id": "view-in-github",
        "colab_type": "text"
      },
      "source": [
        "<a href=\"https://colab.research.google.com/github/JakeOh/202006_iw_pyda_wkd/blob/master/py08_numpy.ipynb\" target=\"_parent\"><img src=\"https://colab.research.google.com/assets/colab-badge.svg\" alt=\"Open In Colab\"/></a>"
      ]
    },
    {
      "cell_type": "code",
      "metadata": {
        "id": "7v-CcUY3RDLO",
        "colab_type": "code",
        "colab": {
          "base_uri": "https://localhost:8080/",
          "height": 34
        },
        "outputId": "96bf5c9c-eded-49c1-9922-55c9e1c439bd"
      },
      "source": [
        "# NumPy: Numerical Python\n",
        "# 다차원 배열(array) 빠르게 조작, 계산\n",
        "\n",
        "import numpy as np\n",
        "# import: numpy 라이브러리 기능을 불러와서 사용\n",
        "# as: 별명\n",
        "\n",
        "np.__version__"
      ],
      "execution_count": 1,
      "outputs": [
        {
          "output_type": "execute_result",
          "data": {
            "text/plain": [
              "'1.18.5'"
            ]
          },
          "metadata": {
            "tags": []
          },
          "execution_count": 1
        }
      ]
    },
    {
      "cell_type": "code",
      "metadata": {
        "id": "jsEbYOWLSigF",
        "colab_type": "code",
        "colab": {
          "base_uri": "https://localhost:8080/",
          "height": 69
        },
        "outputId": "1f24255e-a188-4efc-b447-a26b770331e5"
      },
      "source": [
        "# Python list(리스트): 여러개의 데이터를 저장할 수 있는 자료 타입.\n",
        "num_list = [1, 2, 3]\n",
        "print(type(num_list), num_list)\n",
        "\n",
        "# numpy array(배열): 한가지 타입의 데이터 여러개를 저장할 수 있는 자료 타입\n",
        "num_array = np.array([1, 2, 3])\n",
        "print(type(num_array))  # ndarray: n-dimensional array\n",
        "print(num_array)"
      ],
      "execution_count": 5,
      "outputs": [
        {
          "output_type": "stream",
          "text": [
            "<class 'list'> [1, 2, 3]\n",
            "<class 'numpy.ndarray'>\n",
            "[1 2 3]\n"
          ],
          "name": "stdout"
        }
      ]
    },
    {
      "cell_type": "code",
      "metadata": {
        "id": "H5cP-cNWUf80",
        "colab_type": "code",
        "colab": {
          "base_uri": "https://localhost:8080/",
          "height": 69
        },
        "outputId": "eee48324-b5c2-440c-8252-7d5bb2d2b075"
      },
      "source": [
        "# Python 리스트는 다른 타입의 값들도 함께 저장할 수 있음.\n",
        "list1 = [1, 'abc', True]\n",
        "print(list1)  # 숫자, 문자열, 논리 타입을 함께 저장\n",
        "\n",
        "# numpy ndarray는 한가지 타입의 값들만 저장할 수 있음.\n",
        "array1 = np.array([1, 'abc', True])\n",
        "print(array1)  # 숫자 1과 논리 타입 True가 문자열로 변환되서 저장.\n",
        "print(array1.dtype)  # Unicode 타입 - 문자열"
      ],
      "execution_count": 10,
      "outputs": [
        {
          "output_type": "stream",
          "text": [
            "[1, 'abc', True]\n",
            "['1' 'abc' 'True']\n",
            "<U21\n"
          ],
          "name": "stdout"
        }
      ]
    },
    {
      "cell_type": "code",
      "metadata": {
        "id": "Md0SX-AeVzZW",
        "colab_type": "code",
        "colab": {
          "base_uri": "https://localhost:8080/",
          "height": 51
        },
        "outputId": "2afe2bbd-a544-48d7-f91c-5c45db4e6ab9"
      },
      "source": [
        "# Python 리스트는 + 연산과 * 연산을 사용할 수 있음.\n",
        "# Python 리스트는 -, /, %, // 등의 연산은 제공하지 않음.\n",
        "list1 = [1, 2, 3]\n",
        "list2 = [4, 5, 6]\n",
        "print(list1 + list2)  # 두 개의 리스트를 이어서 붙여줌.\n",
        "print(list1 * 3)  # 곱한 숫자만큼 원소들을 반복해서 리스트의 크기를 늘림."
      ],
      "execution_count": 14,
      "outputs": [
        {
          "output_type": "stream",
          "text": [
            "[1, 2, 3, 4, 5, 6]\n",
            "[1, 2, 3, 1, 2, 3, 1, 2, 3]\n"
          ],
          "name": "stdout"
        }
      ]
    },
    {
      "cell_type": "code",
      "metadata": {
        "id": "SjeG2fZaWxsV",
        "colab_type": "code",
        "colab": {
          "base_uri": "https://localhost:8080/",
          "height": 69
        },
        "outputId": "9e1342c2-e68c-42e5-fc2a-4ce4ba386c95"
      },
      "source": [
        "# numpy ndarray는 모든 산술 연산(+, -, *, /, %, //)을 제공.\n",
        "# 같은 위치의 원소들끼리 산술 연산을 수행함.\n",
        "array1 = np.array([1, 2, 3])\n",
        "array2 = np.array([4, 5, 6])\n",
        "print(array1.dtype)  # int64 - 정수\n",
        "print(array1 + array2)\n",
        "print(array1 - array2)"
      ],
      "execution_count": 17,
      "outputs": [
        {
          "output_type": "stream",
          "text": [
            "int64\n",
            "[5 7 9]\n",
            "[-3 -3 -3]\n"
          ],
          "name": "stdout"
        }
      ]
    },
    {
      "cell_type": "code",
      "metadata": {
        "id": "YLj1Ru6SabUl",
        "colab_type": "code",
        "colab": {
          "base_uri": "https://localhost:8080/",
          "height": 51
        },
        "outputId": "6911a012-1ab6-4e88-dd4a-0e5dd9bd9874"
      },
      "source": [
        "# ndarray를 만들어주는 함수들\n",
        "array3 = np.array([1, 2, 3, 4, 5])\n",
        "print(array3)\n",
        "\n",
        "array4 = np.arange(1, 6)  # array with range\n",
        "# start <= x < end, 1씩 증가하는 숫자로 이루어진 배열\n",
        "print(array4)"
      ],
      "execution_count": 19,
      "outputs": [
        {
          "output_type": "stream",
          "text": [
            "[1 2 3 4 5]\n",
            "[1 2 3 4 5]\n"
          ],
          "name": "stdout"
        }
      ]
    },
    {
      "cell_type": "code",
      "metadata": {
        "id": "nV6KXR_-fEyc",
        "colab_type": "code",
        "colab": {
          "base_uri": "https://localhost:8080/",
          "height": 69
        },
        "outputId": "ddb8e5e1-7b15-4b82-f885-7719bab2d65c"
      },
      "source": [
        "array5 = np.ones(5, dtype=np.int)\n",
        "print(array5)\n",
        "print(array5.shape)  # 1차원 배열(array), 원소 개수=5\n",
        "print(array5.dtype)"
      ],
      "execution_count": 22,
      "outputs": [
        {
          "output_type": "stream",
          "text": [
            "[1 1 1 1 1]\n",
            "(5,)\n",
            "int64\n"
          ],
          "name": "stdout"
        }
      ]
    },
    {
      "cell_type": "code",
      "metadata": {
        "id": "9Gom_rX6gzw0",
        "colab_type": "code",
        "colab": {
          "base_uri": "https://localhost:8080/",
          "height": 69
        },
        "outputId": "8c5c482e-3a72-42ed-966b-e5f72101deb7"
      },
      "source": [
        "array6 = np.ones((2, 3))\n",
        "print(array6)\n",
        "print(array6.shape)"
      ],
      "execution_count": 24,
      "outputs": [
        {
          "output_type": "stream",
          "text": [
            "[[1. 1. 1.]\n",
            " [1. 1. 1.]]\n",
            "(2, 3)\n"
          ],
          "name": "stdout"
        }
      ]
    },
    {
      "cell_type": "code",
      "metadata": {
        "id": "BkImy35aheJC",
        "colab_type": "code",
        "colab": {
          "base_uri": "https://localhost:8080/",
          "height": 103
        },
        "outputId": "2fe938d4-6b64-483e-c0b0-b7f7f3b13278"
      },
      "source": [
        "array7 = np.zeros((3, 4))  # shape(row, column)\n",
        "print(array7)\n",
        "print(array7.shape)\n",
        "print(len(array7))"
      ],
      "execution_count": 27,
      "outputs": [
        {
          "output_type": "stream",
          "text": [
            "[[0. 0. 0. 0.]\n",
            " [0. 0. 0. 0.]\n",
            " [0. 0. 0. 0.]]\n",
            "(3, 4)\n",
            "3\n"
          ],
          "name": "stdout"
        }
      ]
    },
    {
      "cell_type": "code",
      "metadata": {
        "id": "hZTMLZq2ieMz",
        "colab_type": "code",
        "colab": {
          "base_uri": "https://localhost:8080/",
          "height": 69
        },
        "outputId": "cda4f8ce-da8a-4f9b-bab3-be1035f728ad"
      },
      "source": [
        "array8 = np.eye(3)\n",
        "# 항등 행렬을 만들어주는 함수\n",
        "# 항등 행렬: 대각선의 원소들은 모두 1이고, 나머지는 0으로 채워진 정사각행렬.\n",
        "print(array8)"
      ],
      "execution_count": 30,
      "outputs": [
        {
          "output_type": "stream",
          "text": [
            "[[1. 0. 0.]\n",
            " [0. 1. 0.]\n",
            " [0. 0. 1.]]\n"
          ],
          "name": "stdout"
        }
      ]
    },
    {
      "cell_type": "code",
      "metadata": {
        "id": "xpKeY1gVj4uz",
        "colab_type": "code",
        "colab": {
          "base_uri": "https://localhost:8080/",
          "height": 69
        },
        "outputId": "06aed240-f0c8-4e69-c68e-0bb47b216d18"
      },
      "source": [
        "# 난수(random number)로 배열을 만들어 주는 함수들\n",
        "array9 = np.random.rand(3)  # 0 <= r < 1 난수를 생성\n",
        "print(array9, array9.shape)\n",
        "\n",
        "array10 = np.random.rand(2, 3)\n",
        "print(array10, array10.shape)"
      ],
      "execution_count": 35,
      "outputs": [
        {
          "output_type": "stream",
          "text": [
            "[0.22748188 0.3485895  0.21248074] (3,)\n",
            "[[0.3192828  0.42269486 0.96759311]\n",
            " [0.62628459 0.45995019 0.402069  ]] (2, 3)\n"
          ],
          "name": "stdout"
        }
      ]
    },
    {
      "cell_type": "code",
      "metadata": {
        "id": "ejYU5zBZmWNS",
        "colab_type": "code",
        "colab": {
          "base_uri": "https://localhost:8080/",
          "height": 51
        },
        "outputId": "f192a93b-a062-48c4-ceb9-fcc0c511fc0b"
      },
      "source": [
        "array11 = np.random.randn(2, 3)\n",
        "# noraml distribution(정규 분포)을 따르는 난수를 생성\n",
        "# 정규 분포: 평균이 0이고, 표준편차가 1인 분포\n",
        "print(array11)"
      ],
      "execution_count": 36,
      "outputs": [
        {
          "output_type": "stream",
          "text": [
            "[[ 0.21161775 -2.18859181  1.07846034]\n",
            " [-0.64798258 -0.13864995 -1.77978211]]\n"
          ],
          "name": "stdout"
        }
      ]
    },
    {
      "cell_type": "code",
      "metadata": {
        "id": "8gime_N9nc3Y",
        "colab_type": "code",
        "colab": {
          "base_uri": "https://localhost:8080/",
          "height": 69
        },
        "outputId": "cf2ff111-3512-4956-ef08-56fa91b317c9"
      },
      "source": [
        "array12 = np.random.randint(1, 7, size=(3, 4))\n",
        "# low <= r < high의 정수들로 이루어진 난수\n",
        "print(array12)"
      ],
      "execution_count": 38,
      "outputs": [
        {
          "output_type": "stream",
          "text": [
            "[[6 4 6 5]\n",
            " [1 5 5 2]\n",
            " [2 2 6 3]]\n"
          ],
          "name": "stdout"
        }
      ]
    },
    {
      "cell_type": "code",
      "metadata": {
        "id": "CJJukgLjomT6",
        "colab_type": "code",
        "colab": {
          "base_uri": "https://localhost:8080/",
          "height": 123
        },
        "outputId": "979486b5-8cf4-4e7a-8808-0d3bef1888f0"
      },
      "source": [
        "np.random.random_integers(1, 7, size=(3, 4))"
      ],
      "execution_count": 39,
      "outputs": [
        {
          "output_type": "stream",
          "text": [
            "/usr/local/lib/python3.6/dist-packages/ipykernel_launcher.py:1: DeprecationWarning: This function is deprecated. Please call randint(1, 7 + 1) instead\n",
            "  \"\"\"Entry point for launching an IPython kernel.\n"
          ],
          "name": "stderr"
        },
        {
          "output_type": "execute_result",
          "data": {
            "text/plain": [
              "array([[1, 2, 2, 7],\n",
              "       [4, 5, 7, 6],\n",
              "       [6, 5, 7, 1]])"
            ]
          },
          "metadata": {
            "tags": []
          },
          "execution_count": 39
        }
      ]
    },
    {
      "cell_type": "code",
      "metadata": {
        "id": "FQKuydhLrx26",
        "colab_type": "code",
        "colab": {
          "base_uri": "https://localhost:8080/",
          "height": 51
        },
        "outputId": "e6c18fc2-8b11-41cd-dbc2-9a8b6cdbc58a"
      },
      "source": [
        "# NumPy 인덱스, 인덱싱(인덱스를 이용해서 원소를 선택)\n",
        "array = np.random.rand(10)\n",
        "print(array)  # 1-D array"
      ],
      "execution_count": 40,
      "outputs": [
        {
          "output_type": "stream",
          "text": [
            "[0.92532804 0.8904268  0.69859424 0.56246638 0.9590777  0.81703843\n",
            " 0.44232698 0.48427587 0.58849572 0.76620099]\n"
          ],
          "name": "stdout"
        }
      ]
    },
    {
      "cell_type": "code",
      "metadata": {
        "id": "hojtswRnsURZ",
        "colab_type": "code",
        "colab": {
          "base_uri": "https://localhost:8080/",
          "height": 137
        },
        "outputId": "edf01f8a-f1dc-4c76-b38a-0fa58ce4d263"
      },
      "source": [
        "print(array[9])\n",
        "print(array[1:4])  # start <= i < end 범위 인덱스\n",
        "print(array[:4])  # 시작 인덱스를 생략하면 기본값은 0\n",
        "print(array[8:])  # 마지막 인덱스를 생략하면 기본값은 array의 끝까지\n",
        "print(array[:])\n",
        "print(array[-2:])"
      ],
      "execution_count": 49,
      "outputs": [
        {
          "output_type": "stream",
          "text": [
            "0.766200994129551\n",
            "[0.8904268  0.69859424 0.56246638]\n",
            "[0.92532804 0.8904268  0.69859424 0.56246638]\n",
            "[0.58849572 0.76620099]\n",
            "[0.92532804 0.8904268  0.69859424 0.56246638 0.9590777  0.81703843\n",
            " 0.44232698 0.48427587 0.58849572 0.76620099]\n",
            "[0.58849572 0.76620099]\n"
          ],
          "name": "stdout"
        }
      ]
    },
    {
      "cell_type": "code",
      "metadata": {
        "id": "x9hzUyGJuOuC",
        "colab_type": "code",
        "colab": {
          "base_uri": "https://localhost:8080/",
          "height": 69
        },
        "outputId": "956d390a-53f8-4456-8d65-42385276f90c"
      },
      "source": [
        "array = np.random.rand(3, 4)\n",
        "print(array)  # (3, 4) 2-D array"
      ],
      "execution_count": 50,
      "outputs": [
        {
          "output_type": "stream",
          "text": [
            "[[0.25295429 0.67359116 0.12517554 0.10030374]\n",
            " [0.01656498 0.633541   0.5459743  0.05414289]\n",
            " [0.7423642  0.35223791 0.19420794 0.42129164]]\n"
          ],
          "name": "stdout"
        }
      ]
    },
    {
      "cell_type": "code",
      "metadata": {
        "id": "KOEptmCtuhdY",
        "colab_type": "code",
        "colab": {
          "base_uri": "https://localhost:8080/",
          "height": 120
        },
        "outputId": "eec7616f-59c0-4ca0-e53a-d3b0163a3024"
      },
      "source": [
        "print(array[0, 0])  # [row index, column index]\n",
        "print(array[1:3, 2:4])\n",
        "print(array[:, 2:4])"
      ],
      "execution_count": 55,
      "outputs": [
        {
          "output_type": "stream",
          "text": [
            "0.25295428841415146\n",
            "[[0.5459743  0.05414289]\n",
            " [0.19420794 0.42129164]]\n",
            "[[0.12517554 0.10030374]\n",
            " [0.5459743  0.05414289]\n",
            " [0.19420794 0.42129164]]\n"
          ],
          "name": "stdout"
        }
      ]
    },
    {
      "cell_type": "code",
      "metadata": {
        "id": "NhLWkRcqweS6",
        "colab_type": "code",
        "colab": {
          "base_uri": "https://localhost:8080/",
          "height": 51
        },
        "outputId": "f8f769b9-2fb2-4f82-f079-0abad89b52d2"
      },
      "source": [
        "# NumPy array의 인덱싱을 할 때 row 또는 column 인덱스를 \n",
        "# 숫자 1개만 준 경우, 2-D 배열이 1-D 배열로 바뀜!\n",
        "print(array[:, 0])  # (3,) 1-D array\n",
        "print(array[0, :])  # (4,) 1-D array"
      ],
      "execution_count": 57,
      "outputs": [
        {
          "output_type": "stream",
          "text": [
            "[0.25295429 0.01656498 0.7423642 ]\n",
            "[0.25295429 0.67359116 0.12517554 0.10030374]\n"
          ],
          "name": "stdout"
        }
      ]
    },
    {
      "cell_type": "code",
      "metadata": {
        "id": "I3cCYe3LxVyp",
        "colab_type": "code",
        "colab": {
          "base_uri": "https://localhost:8080/",
          "height": 120
        },
        "outputId": "b9b5b113-af95-4445-9de7-40011d905de6"
      },
      "source": [
        "# NumPy array에서 인덱싱을 할 때, 인덱스에 배열을 줄 수 있음.\n",
        "print(array[:, [0, 3]])\n",
        "print(array[:, [0]])  # (3, 1) 2-D array"
      ],
      "execution_count": 59,
      "outputs": [
        {
          "output_type": "stream",
          "text": [
            "[[0.25295429 0.10030374]\n",
            " [0.01656498 0.05414289]\n",
            " [0.7423642  0.42129164]]\n",
            "[[0.25295429]\n",
            " [0.01656498]\n",
            " [0.7423642 ]]\n"
          ],
          "name": "stdout"
        }
      ]
    },
    {
      "cell_type": "code",
      "metadata": {
        "id": "wgcNrxPRyvnK",
        "colab_type": "code",
        "colab": {
          "base_uri": "https://localhost:8080/",
          "height": 51
        },
        "outputId": "ee07ab77-0d85-4479-ab36-1f2f1f04b81d"
      },
      "source": [
        "# boolean indexing: 논리값(True/False)들을 사용해서 필요한 원소들을 선택\n",
        "array = np.random.randn(10)\n",
        "print(array)"
      ],
      "execution_count": 61,
      "outputs": [
        {
          "output_type": "stream",
          "text": [
            "[ 1.47905334  0.1631968   1.56897232 -1.0214501   0.37287218  0.26237782\n",
            "  0.43880213  0.71487526 -0.38843071 -1.20445211]\n"
          ],
          "name": "stdout"
        }
      ]
    },
    {
      "cell_type": "code",
      "metadata": {
        "id": "4uJu7c6OzXA4",
        "colab_type": "code",
        "colab": {
          "base_uri": "https://localhost:8080/",
          "height": 51
        },
        "outputId": "59d945e5-909b-4855-8aeb-2127fdf4a602"
      },
      "source": [
        "array > 0"
      ],
      "execution_count": 62,
      "outputs": [
        {
          "output_type": "execute_result",
          "data": {
            "text/plain": [
              "array([ True,  True,  True, False,  True,  True,  True,  True, False,\n",
              "       False])"
            ]
          },
          "metadata": {
            "tags": []
          },
          "execution_count": 62
        }
      ]
    },
    {
      "cell_type": "code",
      "metadata": {
        "id": "cfha5oECz2JZ",
        "colab_type": "code",
        "colab": {
          "base_uri": "https://localhost:8080/",
          "height": 51
        },
        "outputId": "f26f8d89-3523-4215-d2ba-db4e2d1f787d"
      },
      "source": [
        "print(array[array > 0])"
      ],
      "execution_count": 63,
      "outputs": [
        {
          "output_type": "stream",
          "text": [
            "[1.47905334 0.1631968  1.56897232 0.37287218 0.26237782 0.43880213\n",
            " 0.71487526]\n"
          ],
          "name": "stdout"
        }
      ]
    },
    {
      "cell_type": "code",
      "metadata": {
        "id": "nD4VO8CJ0W5L",
        "colab_type": "code",
        "colab": {
          "base_uri": "https://localhost:8080/",
          "height": 51
        },
        "outputId": "6865ca96-7e5c-4245-fbed-249a5e1df042"
      },
      "source": [
        "# boolean indexing을 할 때 &, |, ~ 연산자를 함께 사용할 수 있음.\n",
        "# 2개의 조건을 & 또는 |로 연결할 때는 반드시 ()를 사용해야 함.\n",
        "print(array[(array > 0.5) | (array < -0.5)])\n",
        "print(array[(array < 0.5) & (array > -0.5)])"
      ],
      "execution_count": 65,
      "outputs": [
        {
          "output_type": "stream",
          "text": [
            "[ 1.47905334  1.56897232 -1.0214501   0.71487526 -1.20445211]\n",
            "[ 0.1631968   0.37287218  0.26237782  0.43880213 -0.38843071]\n"
          ],
          "name": "stdout"
        }
      ]
    },
    {
      "cell_type": "code",
      "metadata": {
        "id": "6RmDvcdMHpx2",
        "colab_type": "code",
        "colab": {
          "base_uri": "https://localhost:8080/",
          "height": 69
        },
        "outputId": "7cbac18c-e393-4253-f4bb-8858bab0de03"
      },
      "source": [
        "np.random.seed(1)  # 난수를 생성하는 결과를 재현할 수 있도록.\n",
        "array = np.random.randn(3, 3)\n",
        "print(array)"
      ],
      "execution_count": 69,
      "outputs": [
        {
          "output_type": "stream",
          "text": [
            "[[ 1.62434536 -0.61175641 -0.52817175]\n",
            " [-1.07296862  0.86540763 -2.3015387 ]\n",
            " [ 1.74481176 -0.7612069   0.3190391 ]]\n"
          ],
          "name": "stdout"
        }
      ]
    },
    {
      "cell_type": "code",
      "metadata": {
        "id": "N0lc4t8aIMBE",
        "colab_type": "code",
        "colab": {
          "base_uri": "https://localhost:8080/",
          "height": 69
        },
        "outputId": "448c8275-7cbe-4a23-f867-15c624bf1ee7"
      },
      "source": [
        "print(array > 0)"
      ],
      "execution_count": 70,
      "outputs": [
        {
          "output_type": "stream",
          "text": [
            "[[ True False False]\n",
            " [False  True False]\n",
            " [ True False  True]]\n"
          ],
          "name": "stdout"
        }
      ]
    },
    {
      "cell_type": "code",
      "metadata": {
        "id": "orgxSvm6Ia6u",
        "colab_type": "code",
        "colab": {
          "base_uri": "https://localhost:8080/",
          "height": 34
        },
        "outputId": "f19757e0-5d56-4dbf-f667-1276402f4a43"
      },
      "source": [
        "print(array[array > 0])\n",
        "# 결과가 1-D array"
      ],
      "execution_count": 71,
      "outputs": [
        {
          "output_type": "stream",
          "text": [
            "[1.62434536 0.86540763 1.74481176 0.3190391 ]\n"
          ],
          "name": "stdout"
        }
      ]
    },
    {
      "cell_type": "code",
      "metadata": {
        "id": "BgHEbr2BI1BU",
        "colab_type": "code",
        "colab": {
          "base_uri": "https://localhost:8080/",
          "height": 120
        },
        "outputId": "6256e9da-15cd-4115-9ad6-faf92a2a04e9"
      },
      "source": [
        "print(array[[0, 2]])\n",
        "print(array[[0, 2],])\n",
        "print(array[[0, 2], :])\n",
        "# 위의 세가지 인덱싱 방식은 같은 결과!"
      ],
      "execution_count": 77,
      "outputs": [
        {
          "output_type": "stream",
          "text": [
            "[[ 1.62434536 -0.61175641 -0.52817175]\n",
            " [ 1.74481176 -0.7612069   0.3190391 ]]\n",
            "[[ 1.62434536 -0.61175641 -0.52817175]\n",
            " [ 1.74481176 -0.7612069   0.3190391 ]]\n",
            "[[ 1.62434536 -0.61175641 -0.52817175]\n",
            " [ 1.74481176 -0.7612069   0.3190391 ]]\n"
          ],
          "name": "stdout"
        }
      ]
    },
    {
      "cell_type": "code",
      "metadata": {
        "id": "3_I_HQnzJvku",
        "colab_type": "code",
        "colab": {
          "base_uri": "https://localhost:8080/",
          "height": 51
        },
        "outputId": "dda9988d-752d-422b-8180-5784af67d0af"
      },
      "source": [
        "print(array[[True, False, True]])"
      ],
      "execution_count": 78,
      "outputs": [
        {
          "output_type": "stream",
          "text": [
            "[[ 1.62434536 -0.61175641 -0.52817175]\n",
            " [ 1.74481176 -0.7612069   0.3190391 ]]\n"
          ],
          "name": "stdout"
        }
      ]
    },
    {
      "cell_type": "code",
      "metadata": {
        "id": "miLQJgqHK6r2",
        "colab_type": "code",
        "colab": {
          "base_uri": "https://localhost:8080/",
          "height": 86
        },
        "outputId": "a592fda8-5bef-4382-f002-6c76fabfcbb8"
      },
      "source": [
        "X = np.arange(16).reshape((4, 4))\n",
        "print(X)"
      ],
      "execution_count": 82,
      "outputs": [
        {
          "output_type": "stream",
          "text": [
            "[[ 0  1  2  3]\n",
            " [ 4  5  6  7]\n",
            " [ 8  9 10 11]\n",
            " [12 13 14 15]]\n"
          ],
          "name": "stdout"
        }
      ]
    },
    {
      "cell_type": "code",
      "metadata": {
        "id": "yXYnr5TaLs8l",
        "colab_type": "code",
        "colab": {
          "base_uri": "https://localhost:8080/",
          "height": 51
        },
        "outputId": "573b38f0-163c-4dd7-fb08-391659375ab6"
      },
      "source": [
        "y = np.array([0, 0, 1, 1])\n",
        "print(y)\n",
        "print(y == 0)"
      ],
      "execution_count": 85,
      "outputs": [
        {
          "output_type": "stream",
          "text": [
            "[0 0 1 1]\n",
            "[ True  True False False]\n"
          ],
          "name": "stdout"
        }
      ]
    },
    {
      "cell_type": "code",
      "metadata": {
        "id": "bixfHRsaL6Gj",
        "colab_type": "code",
        "colab": {
          "base_uri": "https://localhost:8080/",
          "height": 51
        },
        "outputId": "9539b6ba-fd00-45c6-93a3-4f834a30c3e7"
      },
      "source": [
        "print(X[y == 0])"
      ],
      "execution_count": 84,
      "outputs": [
        {
          "output_type": "stream",
          "text": [
            "[[0 1 2 3]\n",
            " [4 5 6 7]]\n"
          ],
          "name": "stdout"
        }
      ]
    }
  ]
}